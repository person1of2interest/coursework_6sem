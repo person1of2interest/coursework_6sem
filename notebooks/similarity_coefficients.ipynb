{
 "cells": [
  {
   "cell_type": "code",
   "execution_count": 1,
   "id": "78973e29",
   "metadata": {},
   "outputs": [],
   "source": [
    "#Pearson’s similarity method\n",
    "\n",
    "def pearson(users, this_user, that_user):\n",
    "    if this_usr in users and that_user in users:\n",
    "        this_sum = sum(users[this_user].values())\n",
    "        this_len = len(users[this_user].values())\n",
    "        this_user_avg = this_sum/this_len\n",
    "        \n",
    "        that_sum = sum(users[that_user].values())\n",
    "        that_len = len(users[that_user].values())\n",
    "        that_user_avg = that_sum/that_len\n",
    "        \n",
    "        this_keys = set(users[this_user].keys())\n",
    "        that_keys = set(users[that_user].keys())\n",
    "        all_movies = (this_keys & that_keys) #merges the two movie sets into one\n",
    "        \n",
    "        dividend = 0\n",
    "        divisor_a = 0\n",
    "        divisor_b = 0\n",
    "    \n",
    "    for movie in all_movies:\n",
    "        nr_a = users[this_user][movie] - this_user_avg #normalizes user ratings by subtracting the mean\n",
    "        nr_b = users[that_user][movie] - that_user_avg\n",
    "        dividend += (nr_a) * (nr_b)\n",
    "        divisor_a += pow(nr_a, 2)\n",
    "        divisor_b += pow(nr_b, 2)\n",
    "    \n",
    "    divisor = Decimal(sqrt(divisor_a) * sqrt(divisor_b))\n",
    "    \n",
    "    if divisor != 0:\n",
    "        return dividend/divisor\n",
    "    \n",
    "    return 0"
   ]
  },
  {
   "cell_type": "code",
   "execution_count": 2,
   "id": "056ea795",
   "metadata": {},
   "outputs": [],
   "source": [
    "#Jaccard similarity method\n",
    "\n",
    "def jaccard(users, this_user, that_user):\n",
    "    if this_user in users and that_user in users:\n",
    "        intersect = set(users[this_user].keys()) & set(users[that_user].keys())\n",
    "        union = set(users[this_user].keys()) | set(users[that_user].keys())\n",
    "        \n",
    "        return len(intersect)/Decimal(len(union))\n",
    "    else:\n",
    "        return 0"
   ]
  }
 ],
 "metadata": {
  "kernelspec": {
   "display_name": "Python 3 (ipykernel)",
   "language": "python",
   "name": "python3"
  },
  "language_info": {
   "codemirror_mode": {
    "name": "ipython",
    "version": 3
   },
   "file_extension": ".py",
   "mimetype": "text/x-python",
   "name": "python",
   "nbconvert_exporter": "python",
   "pygments_lexer": "ipython3",
   "version": "3.8.10"
  }
 },
 "nbformat": 4,
 "nbformat_minor": 5
}
