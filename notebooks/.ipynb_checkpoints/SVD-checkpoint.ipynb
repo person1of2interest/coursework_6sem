{
 "cells": [
  {
   "cell_type": "markdown",
   "id": "288f051c",
   "metadata": {},
   "source": [
    "### SVD"
   ]
  },
  {
   "cell_type": "code",
   "execution_count": 1,
   "id": "ba49aa5b",
   "metadata": {},
   "outputs": [],
   "source": [
    "import pandas as pd\n",
    "import os\n",
    "import numpy as np\n",
    "\n",
    "DATA_PATH = '../data/'\n",
    "\n",
    "ratings_main = pd.read_csv(\n",
    "    os.path.join(DATA_PATH, 'ratings.csv'),\n",
    "    dtype={\n",
    "        'user_uid': np.uint32,\n",
    "        'element_uid': np.uint16,\n",
    "        'rating': np.uint8,\n",
    "        'ts': np.float64,\n",
    "    }\n",
    ")"
   ]
  },
  {
   "cell_type": "code",
   "execution_count": 2,
   "id": "7d738385",
   "metadata": {},
   "outputs": [
    {
     "data": {
      "text/html": [
       "<div>\n",
       "<style scoped>\n",
       "    .dataframe tbody tr th:only-of-type {\n",
       "        vertical-align: middle;\n",
       "    }\n",
       "\n",
       "    .dataframe tbody tr th {\n",
       "        vertical-align: top;\n",
       "    }\n",
       "\n",
       "    .dataframe thead th {\n",
       "        text-align: right;\n",
       "    }\n",
       "</style>\n",
       "<table border=\"1\" class=\"dataframe\">\n",
       "  <thead>\n",
       "    <tr style=\"text-align: right;\">\n",
       "      <th></th>\n",
       "      <th>user_uid</th>\n",
       "      <th>element_uid</th>\n",
       "      <th>rating</th>\n",
       "      <th>ts</th>\n",
       "    </tr>\n",
       "  </thead>\n",
       "  <tbody>\n",
       "    <tr>\n",
       "      <th>0</th>\n",
       "      <td>571252</td>\n",
       "      <td>1364</td>\n",
       "      <td>10</td>\n",
       "      <td>4.430517e+07</td>\n",
       "    </tr>\n",
       "    <tr>\n",
       "      <th>1</th>\n",
       "      <td>63140</td>\n",
       "      <td>3037</td>\n",
       "      <td>10</td>\n",
       "      <td>4.430514e+07</td>\n",
       "    </tr>\n",
       "    <tr>\n",
       "      <th>2</th>\n",
       "      <td>443817</td>\n",
       "      <td>4363</td>\n",
       "      <td>8</td>\n",
       "      <td>4.430514e+07</td>\n",
       "    </tr>\n",
       "    <tr>\n",
       "      <th>3</th>\n",
       "      <td>359870</td>\n",
       "      <td>1364</td>\n",
       "      <td>10</td>\n",
       "      <td>4.430506e+07</td>\n",
       "    </tr>\n",
       "    <tr>\n",
       "      <th>4</th>\n",
       "      <td>359870</td>\n",
       "      <td>3578</td>\n",
       "      <td>9</td>\n",
       "      <td>4.430506e+07</td>\n",
       "    </tr>\n",
       "    <tr>\n",
       "      <th>5</th>\n",
       "      <td>557663</td>\n",
       "      <td>1918</td>\n",
       "      <td>10</td>\n",
       "      <td>4.430505e+07</td>\n",
       "    </tr>\n",
       "  </tbody>\n",
       "</table>\n",
       "</div>"
      ],
      "text/plain": [
       "   user_uid  element_uid  rating            ts\n",
       "0    571252         1364      10  4.430517e+07\n",
       "1     63140         3037      10  4.430514e+07\n",
       "2    443817         4363       8  4.430514e+07\n",
       "3    359870         1364      10  4.430506e+07\n",
       "4    359870         3578       9  4.430506e+07\n",
       "5    557663         1918      10  4.430505e+07"
      ]
     },
     "execution_count": 2,
     "metadata": {},
     "output_type": "execute_result"
    }
   ],
   "source": [
    "ratings_main.head(6)"
   ]
  },
  {
   "cell_type": "code",
   "execution_count": 3,
   "id": "2f4078d4",
   "metadata": {},
   "outputs": [],
   "source": [
    "from sklearn.model_selection import StratifiedShuffleSplit\n",
    "from numpy import linalg\n",
    "from scipy.sparse import coo_matrix"
   ]
  },
  {
   "cell_type": "code",
   "execution_count": 4,
   "id": "4fad586d",
   "metadata": {},
   "outputs": [
    {
     "name": "stdout",
     "output_type": "stream",
     "text": [
      "CPU times: user 966 ms, sys: 43 ms, total: 1.01 s\n",
      "Wall time: 1.01 s\n"
     ]
    }
   ],
   "source": [
    "%%time\n",
    "\n",
    "# удаляю из списка фильмов фильмы с менее чем тремя оценками на весь датасет\n",
    "data = ratings_main.groupby('element_uid').agg({'element_uid': ['count']})\n",
    "ind = set(data[data['element_uid']['count'] > 2].index)\n",
    "grouped = ratings_main.groupby('element_uid')\n",
    "ratings_main = grouped.filter(lambda x: set(x['element_uid']).issubset(ind))\n",
    "\n",
    "ratings_ds = ratings_main.copy()\n",
    "\n",
    "# отбираю 30_000 строк для обучения \n",
    "# с помощью стратифицированной по элементам выборки\n",
    "sss = StratifiedShuffleSplit(n_splits=1, train_size=30_000, random_state=0)\n",
    "for _, (train_index, _) in enumerate(sss.split(ratings_main, ratings_main['element_uid'])):\n",
    "    ratings_main = ratings_main.iloc[train_index]\n",
    "\n",
    "\n",
    "# удаляю строки с оценкой фильма 0 (используется шкала от 1 до 10, поэтому это мусор)\n",
    "ratings_main.drop(labels=ratings_main.groupby('rating').get_group(0).index, \n",
    "                  inplace=True)"
   ]
  },
  {
   "cell_type": "code",
   "execution_count": 5,
   "id": "c4514d4a",
   "metadata": {},
   "outputs": [
    {
     "name": "stdout",
     "output_type": "stream",
     "text": [
      "CPU times: user 728 ms, sys: 608 ms, total: 1.34 s\n",
      "Wall time: 1.35 s\n"
     ]
    }
   ],
   "source": [
    "%%time\n",
    "\n",
    "users = ratings_main['user_uid'].astype('category')\n",
    "elements = ratings_main['element_uid'].astype('category')\n",
    "ratings = ratings_main['rating']\n",
    "    \n",
    "coo = coo_matrix((ratings.astype(float), # coo --- матрица оценок\n",
    "                  (users.cat.codes.copy(), elements.cat.codes.copy()))).toarray()\n",
    "r_average = round(coo[coo > 0.0].mean(), 2) # заполняем нули (неизвестные значения) средней оценкой\n",
    "coo[coo == 0] = np.NaN\n",
    "coo = np.nan_to_num(coo, nan=r_average, copy=False)"
   ]
  },
  {
   "cell_type": "code",
   "execution_count": 6,
   "id": "e86f7c4d",
   "metadata": {},
   "outputs": [
    {
     "name": "stdout",
     "output_type": "stream",
     "text": [
      "CPU times: user 10min 21s, sys: 2min 4s, total: 12min 25s\n",
      "Wall time: 1min 44s\n"
     ]
    }
   ],
   "source": [
    "%%time\n",
    "U, Sigma, Vt = linalg.svd(coo, full_matrices=False)"
   ]
  },
  {
   "cell_type": "code",
   "execution_count": 7,
   "id": "7b4d76ef",
   "metadata": {},
   "outputs": [],
   "source": [
    "def compute_k(Sigma):\n",
    "    target_sum = 0.9 * np.sum(Sigma)\n",
    "    cur_sum = 0\n",
    "    k = 0\n",
    "    \n",
    "    while cur_sum < target_sum:\n",
    "        cur_sum += Sigma[k]\n",
    "        k += 1\n",
    "    \n",
    "    return k"
   ]
  },
  {
   "cell_type": "code",
   "execution_count": 8,
   "id": "f4f383e4",
   "metadata": {},
   "outputs": [
    {
     "name": "stdout",
     "output_type": "stream",
     "text": [
      "CPU times: user 1.55 ms, sys: 317 µs, total: 1.87 ms\n",
      "Wall time: 4.13 ms\n"
     ]
    }
   ],
   "source": [
    "%%time\n",
    "k = compute_k(Sigma)"
   ]
  },
  {
   "cell_type": "code",
   "execution_count": 9,
   "id": "56f35937",
   "metadata": {},
   "outputs": [
    {
     "data": {
      "text/plain": [
       "9.26"
      ]
     },
     "execution_count": 9,
     "metadata": {},
     "output_type": "execute_result"
    }
   ],
   "source": [
    "round(len(Sigma)/k, 2) "
   ]
  },
  {
   "cell_type": "markdown",
   "id": "72ea9a25",
   "metadata": {},
   "source": [
    "В 9 с лишним раз сократили размерность Sigma, сохранив при этом 90% информации!"
   ]
  },
  {
   "cell_type": "code",
   "execution_count": 10,
   "id": "75ffd300",
   "metadata": {},
   "outputs": [],
   "source": [
    "# сокращаем размерности разложенных матриц\n",
    "\n",
    "def rank_k(k):\n",
    "    U_reduced= np.array(U[:,:k])\n",
    "    Vt_reduced = np.array(Vt[:k,:])\n",
    "    Sigma_reduced = np.diag(Sigma[:k])\n",
    "    Sigma_sqrt = np.sqrt(Sigma_reduced)\n",
    "    \n",
    "    return U_reduced @ Sigma_sqrt, Sigma_sqrt @ Vt_reduced"
   ]
  },
  {
   "cell_type": "code",
   "execution_count": 11,
   "id": "a0c10231",
   "metadata": {},
   "outputs": [
    {
     "name": "stdout",
     "output_type": "stream",
     "text": [
      "CPU times: user 9.07 s, sys: 7.91 s, total: 17 s\n",
      "Wall time: 2.86 s\n"
     ]
    }
   ],
   "source": [
    "%%time\n",
    "U_reduced, Vt_reduced = rank_k(k)\n",
    "ratings_matrix = (U_reduced @ Vt_reduced).round(2)"
   ]
  },
  {
   "cell_type": "code",
   "execution_count": 12,
   "id": "b1fd9cd8",
   "metadata": {},
   "outputs": [
    {
     "name": "stdout",
     "output_type": "stream",
     "text": [
      "CPU times: user 2.03 ms, sys: 63 µs, total: 2.1 ms\n",
      "Wall time: 5.27 ms\n"
     ]
    }
   ],
   "source": [
    "%%time\n",
    "\n",
    "# датасет спрогнозированных оценок\n",
    "# строки соответствуют пользователям, столбцы --- фильмам\n",
    "\n",
    "ratings_df = pd.DataFrame(ratings_matrix, columns=elements.cat.categories, index=users.cat.categories)"
   ]
  },
  {
   "cell_type": "code",
   "execution_count": 13,
   "id": "620d4144",
   "metadata": {},
   "outputs": [
    {
     "data": {
      "text/html": [
       "<div>\n",
       "<style scoped>\n",
       "    .dataframe tbody tr th:only-of-type {\n",
       "        vertical-align: middle;\n",
       "    }\n",
       "\n",
       "    .dataframe tbody tr th {\n",
       "        vertical-align: top;\n",
       "    }\n",
       "\n",
       "    .dataframe thead th {\n",
       "        text-align: right;\n",
       "    }\n",
       "</style>\n",
       "<table border=\"1\" class=\"dataframe\">\n",
       "  <thead>\n",
       "    <tr style=\"text-align: right;\">\n",
       "      <th></th>\n",
       "      <th>3</th>\n",
       "      <th>6</th>\n",
       "      <th>7</th>\n",
       "      <th>15</th>\n",
       "      <th>18</th>\n",
       "      <th>26</th>\n",
       "      <th>28</th>\n",
       "      <th>29</th>\n",
       "      <th>30</th>\n",
       "      <th>31</th>\n",
       "      <th>...</th>\n",
       "      <th>10166</th>\n",
       "      <th>10168</th>\n",
       "      <th>10169</th>\n",
       "      <th>10170</th>\n",
       "      <th>10171</th>\n",
       "      <th>10173</th>\n",
       "      <th>10178</th>\n",
       "      <th>10180</th>\n",
       "      <th>10184</th>\n",
       "      <th>10185</th>\n",
       "    </tr>\n",
       "  </thead>\n",
       "  <tbody>\n",
       "    <tr>\n",
       "      <th>1</th>\n",
       "      <td>8.21</td>\n",
       "      <td>8.21</td>\n",
       "      <td>8.21</td>\n",
       "      <td>8.21</td>\n",
       "      <td>8.21</td>\n",
       "      <td>8.21</td>\n",
       "      <td>8.21</td>\n",
       "      <td>8.21</td>\n",
       "      <td>8.21</td>\n",
       "      <td>8.21</td>\n",
       "      <td>...</td>\n",
       "      <td>8.21</td>\n",
       "      <td>8.21</td>\n",
       "      <td>8.21</td>\n",
       "      <td>8.21</td>\n",
       "      <td>8.21</td>\n",
       "      <td>8.21</td>\n",
       "      <td>8.21</td>\n",
       "      <td>8.21</td>\n",
       "      <td>8.21</td>\n",
       "      <td>8.21</td>\n",
       "    </tr>\n",
       "    <tr>\n",
       "      <th>17</th>\n",
       "      <td>8.21</td>\n",
       "      <td>8.21</td>\n",
       "      <td>8.21</td>\n",
       "      <td>8.21</td>\n",
       "      <td>8.21</td>\n",
       "      <td>8.21</td>\n",
       "      <td>8.21</td>\n",
       "      <td>8.21</td>\n",
       "      <td>8.21</td>\n",
       "      <td>8.21</td>\n",
       "      <td>...</td>\n",
       "      <td>8.21</td>\n",
       "      <td>8.21</td>\n",
       "      <td>8.21</td>\n",
       "      <td>8.21</td>\n",
       "      <td>8.21</td>\n",
       "      <td>8.21</td>\n",
       "      <td>8.21</td>\n",
       "      <td>8.21</td>\n",
       "      <td>8.21</td>\n",
       "      <td>8.21</td>\n",
       "    </tr>\n",
       "    <tr>\n",
       "      <th>20</th>\n",
       "      <td>8.21</td>\n",
       "      <td>8.21</td>\n",
       "      <td>8.21</td>\n",
       "      <td>8.21</td>\n",
       "      <td>8.21</td>\n",
       "      <td>8.21</td>\n",
       "      <td>8.21</td>\n",
       "      <td>8.21</td>\n",
       "      <td>8.21</td>\n",
       "      <td>8.21</td>\n",
       "      <td>...</td>\n",
       "      <td>8.21</td>\n",
       "      <td>8.21</td>\n",
       "      <td>8.21</td>\n",
       "      <td>8.21</td>\n",
       "      <td>8.21</td>\n",
       "      <td>8.21</td>\n",
       "      <td>8.21</td>\n",
       "      <td>8.21</td>\n",
       "      <td>8.21</td>\n",
       "      <td>8.21</td>\n",
       "    </tr>\n",
       "    <tr>\n",
       "      <th>25</th>\n",
       "      <td>8.21</td>\n",
       "      <td>8.21</td>\n",
       "      <td>8.21</td>\n",
       "      <td>8.21</td>\n",
       "      <td>8.21</td>\n",
       "      <td>8.21</td>\n",
       "      <td>8.21</td>\n",
       "      <td>8.21</td>\n",
       "      <td>8.21</td>\n",
       "      <td>8.21</td>\n",
       "      <td>...</td>\n",
       "      <td>8.21</td>\n",
       "      <td>8.21</td>\n",
       "      <td>8.21</td>\n",
       "      <td>8.21</td>\n",
       "      <td>8.21</td>\n",
       "      <td>8.21</td>\n",
       "      <td>8.21</td>\n",
       "      <td>8.21</td>\n",
       "      <td>8.21</td>\n",
       "      <td>8.21</td>\n",
       "    </tr>\n",
       "    <tr>\n",
       "      <th>72</th>\n",
       "      <td>8.21</td>\n",
       "      <td>8.21</td>\n",
       "      <td>8.21</td>\n",
       "      <td>8.21</td>\n",
       "      <td>8.21</td>\n",
       "      <td>8.21</td>\n",
       "      <td>8.21</td>\n",
       "      <td>8.21</td>\n",
       "      <td>8.21</td>\n",
       "      <td>8.21</td>\n",
       "      <td>...</td>\n",
       "      <td>8.21</td>\n",
       "      <td>8.21</td>\n",
       "      <td>8.21</td>\n",
       "      <td>8.21</td>\n",
       "      <td>8.21</td>\n",
       "      <td>8.21</td>\n",
       "      <td>8.21</td>\n",
       "      <td>8.21</td>\n",
       "      <td>8.21</td>\n",
       "      <td>8.21</td>\n",
       "    </tr>\n",
       "    <tr>\n",
       "      <th>105</th>\n",
       "      <td>8.21</td>\n",
       "      <td>8.21</td>\n",
       "      <td>8.21</td>\n",
       "      <td>8.21</td>\n",
       "      <td>8.21</td>\n",
       "      <td>8.21</td>\n",
       "      <td>8.21</td>\n",
       "      <td>8.21</td>\n",
       "      <td>8.21</td>\n",
       "      <td>8.21</td>\n",
       "      <td>...</td>\n",
       "      <td>8.21</td>\n",
       "      <td>8.21</td>\n",
       "      <td>8.21</td>\n",
       "      <td>8.21</td>\n",
       "      <td>8.21</td>\n",
       "      <td>8.21</td>\n",
       "      <td>8.21</td>\n",
       "      <td>8.21</td>\n",
       "      <td>8.21</td>\n",
       "      <td>8.21</td>\n",
       "    </tr>\n",
       "  </tbody>\n",
       "</table>\n",
       "<p>6 rows × 4169 columns</p>\n",
       "</div>"
      ],
      "text/plain": [
       "     3      6      7      15     18     26     28     29     30     31     \\\n",
       "1     8.21   8.21   8.21   8.21   8.21   8.21   8.21   8.21   8.21   8.21   \n",
       "17    8.21   8.21   8.21   8.21   8.21   8.21   8.21   8.21   8.21   8.21   \n",
       "20    8.21   8.21   8.21   8.21   8.21   8.21   8.21   8.21   8.21   8.21   \n",
       "25    8.21   8.21   8.21   8.21   8.21   8.21   8.21   8.21   8.21   8.21   \n",
       "72    8.21   8.21   8.21   8.21   8.21   8.21   8.21   8.21   8.21   8.21   \n",
       "105   8.21   8.21   8.21   8.21   8.21   8.21   8.21   8.21   8.21   8.21   \n",
       "\n",
       "     ...  10166  10168  10169  10170  10171  10173  10178  10180  10184  10185  \n",
       "1    ...   8.21   8.21   8.21   8.21   8.21   8.21   8.21   8.21   8.21   8.21  \n",
       "17   ...   8.21   8.21   8.21   8.21   8.21   8.21   8.21   8.21   8.21   8.21  \n",
       "20   ...   8.21   8.21   8.21   8.21   8.21   8.21   8.21   8.21   8.21   8.21  \n",
       "25   ...   8.21   8.21   8.21   8.21   8.21   8.21   8.21   8.21   8.21   8.21  \n",
       "72   ...   8.21   8.21   8.21   8.21   8.21   8.21   8.21   8.21   8.21   8.21  \n",
       "105  ...   8.21   8.21   8.21   8.21   8.21   8.21   8.21   8.21   8.21   8.21  \n",
       "\n",
       "[6 rows x 4169 columns]"
      ]
     },
     "execution_count": 13,
     "metadata": {},
     "output_type": "execute_result"
    }
   ],
   "source": [
    "ratings_df.head(6)"
   ]
  },
  {
   "cell_type": "code",
   "execution_count": 14,
   "id": "991f6c1c",
   "metadata": {},
   "outputs": [
    {
     "name": "stdout",
     "output_type": "stream",
     "text": [
      "CPU times: user 247 ms, sys: 35.8 ms, total: 283 ms\n",
      "Wall time: 399 ms\n"
     ]
    }
   ],
   "source": [
    "%%time\n",
    "\n",
    "# пример составления рекомендаций для пользователя 231944\n",
    "user = 231944\n",
    "\n",
    "# убираем из рекомендаций уже оценённые пользователем элементы\n",
    "rated_elems = set(ratings_ds[ratings_ds['user_uid']==user]['element_uid'])\n",
    "columns = set(ratings_df.columns) - rated_elems\n",
    "\n",
    "pairs = [[ratings_df.loc[user, col], col] for col in columns]\n",
    "pairs.sort(key=lambda p: p[0], reverse=True)\n",
    "\n",
    "recs = np.array(pairs).T[1][:10]\n",
    "recs = recs.astype('I')"
   ]
  },
  {
   "cell_type": "code",
   "execution_count": 15,
   "id": "17f88132",
   "metadata": {},
   "outputs": [
    {
     "data": {
      "text/plain": [
       "array([3349, 3861, 7279, 8569, 3903, 6373,  622, 1003, 2746, 4173],\n",
       "      dtype=uint32)"
      ]
     },
     "execution_count": 15,
     "metadata": {},
     "output_type": "execute_result"
    }
   ],
   "source": [
    "recs"
   ]
  },
  {
   "cell_type": "code",
   "execution_count": 16,
   "id": "2b16bc2a",
   "metadata": {},
   "outputs": [
    {
     "data": {
      "text/plain": [
       "3349    8.28\n",
       "3861    8.25\n",
       "7279    8.24\n",
       "8569    8.24\n",
       "3903    8.23\n",
       "6373    8.23\n",
       "622     8.22\n",
       "1003    8.22\n",
       "2746    8.22\n",
       "4173    8.22\n",
       "Name: 231944, dtype: float64"
      ]
     },
     "execution_count": 16,
     "metadata": {},
     "output_type": "execute_result"
    }
   ],
   "source": [
    "ratings_df.loc[user, recs]"
   ]
  },
  {
   "cell_type": "markdown",
   "id": "4131b7b5",
   "metadata": {},
   "source": [
    "Посчитаем среднюю квадратичную ошибку на тренировочных (из rating_ds) и тестовых (из ratings_main) данных для пользователей, оценивших более 30-ти элементов:"
   ]
  },
  {
   "cell_type": "code",
   "execution_count": 17,
   "id": "baab264d",
   "metadata": {},
   "outputs": [
    {
     "data": {
      "text/plain": [
       "[24124, 83691, 107891, 110138, 278352, 334052, 412991, 453355]"
      ]
     },
     "execution_count": 17,
     "metadata": {},
     "output_type": "execute_result"
    }
   ],
   "source": [
    "a = ratings_main.groupby(by='user_uid').count()\n",
    "users = list(a[a['rating']>30].index) # выбираем пользователей, которые поставили больше 30-ти оценок\n",
    "users"
   ]
  },
  {
   "cell_type": "code",
   "execution_count": 19,
   "id": "d344f457",
   "metadata": {},
   "outputs": [],
   "source": [
    "from sklearn.metrics import mean_squared_error as mse"
   ]
  },
  {
   "cell_type": "code",
   "execution_count": 20,
   "id": "0c101b7a",
   "metadata": {},
   "outputs": [],
   "source": [
    "def calc_rmse(user, ratings_ds, ratings_main):\n",
    "    elem_train = set(ratings_main[ratings_main['user_uid']==user]['element_uid'])\n",
    "    elem_test = set(ratings_ds[ratings_ds['user_uid']==user]['element_uid'])\n",
    "    elem_test &= set(ratings_main['element_uid'].unique()) # рассматриваем только попавшие в таблицу с оценками\n",
    "    elem_test -= elem_train # убираем элементы из тренировочной выборки\n",
    "    \n",
    "    elem_train = list(elem_train)\n",
    "    elem_test = list(elem_test)\n",
    "    \n",
    "    user_ds = ratings_ds[ratings_ds['user_uid']==user]\n",
    "    \n",
    "    r_train_pred = ratings_df.loc[user, list(elem_train)]\n",
    "    r_train_true = [user_ds[user_ds['element_uid']==elem]['rating'] for elem in elem_train]\n",
    "    r_test_pred = ratings_df.loc[user, list(elem_test)]\n",
    "    r_test_true = [user_ds[user_ds['element_uid']==elem]['rating'] for elem in elem_test]\n",
    "    \n",
    "    rmse_train = round(mse(r_train_true, r_train_pred, squared=False), 2)\n",
    "    rmse_test = round(mse(r_test_true, r_test_pred, squared=False), 2)\n",
    "    return [rmse_train, rmse_test]"
   ]
  },
  {
   "cell_type": "code",
   "execution_count": 21,
   "id": "e8da1b57",
   "metadata": {},
   "outputs": [],
   "source": [
    "rmse_arr = []"
   ]
  },
  {
   "cell_type": "code",
   "execution_count": 22,
   "id": "1a6f34ca",
   "metadata": {},
   "outputs": [],
   "source": [
    "for user in users:\n",
    "    rmse_arr.append(calc_rmse(user, ratings_ds, ratings_main))"
   ]
  },
  {
   "cell_type": "code",
   "execution_count": 25,
   "id": "f6c08138",
   "metadata": {
    "scrolled": true
   },
   "outputs": [
    {
     "data": {
      "text/plain": [
       "array([[0.25, 0.39, 0.4 , 0.17, 0.62, 0.13, 0.14, 0.92],\n",
       "       [1.71, 1.41, 0.65, 2.56, 1.25, 1.56, 2.42, 1.05]])"
      ]
     },
     "execution_count": 25,
     "metadata": {},
     "output_type": "execute_result"
    }
   ],
   "source": [
    "rmse_arr = np.array(rmse_arr).T\n",
    "rmse_arr"
   ]
  },
  {
   "cell_type": "code",
   "execution_count": 26,
   "id": "ed3bbd55",
   "metadata": {},
   "outputs": [
    {
     "name": "stdout",
     "output_type": "stream",
     "text": [
      "Среднее значение RMSE на тренировочной выборке: 0.3775\n",
      "Среднее значение RMSE на тестовой выборке: 1.57625\n"
     ]
    }
   ],
   "source": [
    "print('Среднее значение RMSE на тренировочной выборке:',np.mean(rmse_arr[0]))\n",
    "print('Среднее значение RMSE на тестовой выборке:', np.mean(rmse_arr[1]))"
   ]
  },
  {
   "cell_type": "markdown",
   "id": "336fff08",
   "metadata": {},
   "source": [
    "Видно, что ошибка на тренировочной выборке оказалась небольшой, а на тестовой составила около 1.5. То есть для наших пользователей прогноз рекомендательного алгоритма в среднем отличался от реальной оценки на 1.5 единицы из 10. "
   ]
  },
  {
   "cell_type": "markdown",
   "id": "63b825e4",
   "metadata": {},
   "source": [
    "Аналогичные вычисления для случайных 10-ти пользователей:"
   ]
  },
  {
   "cell_type": "code",
   "execution_count": 28,
   "id": "6cbfc632",
   "metadata": {},
   "outputs": [],
   "source": [
    "import random"
   ]
  },
  {
   "cell_type": "code",
   "execution_count": 33,
   "id": "a9cf56bd",
   "metadata": {},
   "outputs": [
    {
     "data": {
      "text/plain": [
       "[535086,\n",
       " 398861,\n",
       " 109987,\n",
       " 434600,\n",
       " 549799,\n",
       " 133267,\n",
       " 378841,\n",
       " 166311,\n",
       " 255046,\n",
       " 417917]"
      ]
     },
     "execution_count": 33,
     "metadata": {},
     "output_type": "execute_result"
    }
   ],
   "source": [
    "a = ratings_main.groupby(by='user_uid').count()\n",
    "users = list(a[a['rating']>2].index) # выбираем оценивших хотя бы два фильма\n",
    "users = random.sample(users, 10) # выбираем 10 случайных пользователей\n",
    "users"
   ]
  },
  {
   "cell_type": "code",
   "execution_count": 34,
   "id": "182e166d",
   "metadata": {},
   "outputs": [],
   "source": [
    "rmse_arr = []"
   ]
  },
  {
   "cell_type": "code",
   "execution_count": 35,
   "id": "52eea848",
   "metadata": {},
   "outputs": [],
   "source": [
    "for user in users:\n",
    "    rmse_arr.append(calc_rmse(user, ratings_ds, ratings_main))"
   ]
  },
  {
   "cell_type": "code",
   "execution_count": 36,
   "id": "8401d712",
   "metadata": {},
   "outputs": [
    {
     "data": {
      "text/plain": [
       "array([[0.04, 0.64, 1.05, 1.53, 1.04, 1.02, 1.02, 0.46, 0.02, 1.59],\n",
       "       [1.76, 1.84, 1.68, 1.55, 2.3 , 2.72, 1.82, 1.96, 1.49, 2.19]])"
      ]
     },
     "execution_count": 36,
     "metadata": {},
     "output_type": "execute_result"
    }
   ],
   "source": [
    "rmse_arr = np.array(rmse_arr).T\n",
    "rmse_arr"
   ]
  },
  {
   "cell_type": "code",
   "execution_count": 37,
   "id": "0c4993c2",
   "metadata": {},
   "outputs": [
    {
     "name": "stdout",
     "output_type": "stream",
     "text": [
      "Среднее значение RMSE на тренировочной выборке: 0.841\n",
      "Среднее значение RMSE на тестовой выборке: 1.9310000000000003\n"
     ]
    }
   ],
   "source": [
    "print('Среднее значение RMSE на тренировочной выборке:',np.mean(rmse_arr[0]))\n",
    "print('Среднее значение RMSE на тестовой выборке:', np.mean(rmse_arr[1]))"
   ]
  }
 ],
 "metadata": {
  "kernelspec": {
   "display_name": "Python 3 (ipykernel)",
   "language": "python",
   "name": "python3"
  },
  "language_info": {
   "codemirror_mode": {
    "name": "ipython",
    "version": 3
   },
   "file_extension": ".py",
   "mimetype": "text/x-python",
   "name": "python",
   "nbconvert_exporter": "python",
   "pygments_lexer": "ipython3",
   "version": "3.8.10"
  }
 },
 "nbformat": 4,
 "nbformat_minor": 5
}
