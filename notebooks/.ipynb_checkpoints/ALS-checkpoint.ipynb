{
 "cells": [
  {
   "cell_type": "markdown",
   "id": "1c3171d2",
   "metadata": {},
   "source": [
    "### Этот файл посвящён изучению алгоритма ALS и построению рекомендаций с его помощью"
   ]
  },
  {
   "cell_type": "code",
   "execution_count": 1,
   "id": "e833d791",
   "metadata": {},
   "outputs": [],
   "source": [
    "import pandas as pd\n",
    "import os\n",
    "import numpy as np\n",
    "\n",
    "DATA_PATH = '../data/'\n",
    "\n",
    "ratings_main = pd.read_csv(\n",
    "    os.path.join(DATA_PATH, 'ratings.csv'),\n",
    "    dtype={\n",
    "        'user_uid': np.uint32,\n",
    "        'element_uid': np.uint16,\n",
    "        'rating': np.uint8,\n",
    "        'ts': np.float64,\n",
    "    }\n",
    ")"
   ]
  },
  {
   "cell_type": "code",
   "execution_count": 2,
   "id": "f2579fcc",
   "metadata": {},
   "outputs": [
    {
     "data": {
      "text/html": [
       "<div>\n",
       "<style scoped>\n",
       "    .dataframe tbody tr th:only-of-type {\n",
       "        vertical-align: middle;\n",
       "    }\n",
       "\n",
       "    .dataframe tbody tr th {\n",
       "        vertical-align: top;\n",
       "    }\n",
       "\n",
       "    .dataframe thead th {\n",
       "        text-align: right;\n",
       "    }\n",
       "</style>\n",
       "<table border=\"1\" class=\"dataframe\">\n",
       "  <thead>\n",
       "    <tr style=\"text-align: right;\">\n",
       "      <th></th>\n",
       "      <th>user_uid</th>\n",
       "      <th>element_uid</th>\n",
       "      <th>rating</th>\n",
       "      <th>ts</th>\n",
       "    </tr>\n",
       "  </thead>\n",
       "  <tbody>\n",
       "    <tr>\n",
       "      <th>0</th>\n",
       "      <td>571252</td>\n",
       "      <td>1364</td>\n",
       "      <td>10</td>\n",
       "      <td>4.430517e+07</td>\n",
       "    </tr>\n",
       "    <tr>\n",
       "      <th>1</th>\n",
       "      <td>63140</td>\n",
       "      <td>3037</td>\n",
       "      <td>10</td>\n",
       "      <td>4.430514e+07</td>\n",
       "    </tr>\n",
       "    <tr>\n",
       "      <th>2</th>\n",
       "      <td>443817</td>\n",
       "      <td>4363</td>\n",
       "      <td>8</td>\n",
       "      <td>4.430514e+07</td>\n",
       "    </tr>\n",
       "    <tr>\n",
       "      <th>3</th>\n",
       "      <td>359870</td>\n",
       "      <td>1364</td>\n",
       "      <td>10</td>\n",
       "      <td>4.430506e+07</td>\n",
       "    </tr>\n",
       "    <tr>\n",
       "      <th>4</th>\n",
       "      <td>359870</td>\n",
       "      <td>3578</td>\n",
       "      <td>9</td>\n",
       "      <td>4.430506e+07</td>\n",
       "    </tr>\n",
       "    <tr>\n",
       "      <th>5</th>\n",
       "      <td>557663</td>\n",
       "      <td>1918</td>\n",
       "      <td>10</td>\n",
       "      <td>4.430505e+07</td>\n",
       "    </tr>\n",
       "  </tbody>\n",
       "</table>\n",
       "</div>"
      ],
      "text/plain": [
       "   user_uid  element_uid  rating            ts\n",
       "0    571252         1364      10  4.430517e+07\n",
       "1     63140         3037      10  4.430514e+07\n",
       "2    443817         4363       8  4.430514e+07\n",
       "3    359870         1364      10  4.430506e+07\n",
       "4    359870         3578       9  4.430506e+07\n",
       "5    557663         1918      10  4.430505e+07"
      ]
     },
     "execution_count": 2,
     "metadata": {},
     "output_type": "execute_result"
    }
   ],
   "source": [
    "ratings_main.head(6)"
   ]
  },
  {
   "cell_type": "code",
   "execution_count": 3,
   "id": "a33cdad9",
   "metadata": {},
   "outputs": [],
   "source": [
    "from sklearn.model_selection import StratifiedShuffleSplit"
   ]
  },
  {
   "cell_type": "code",
   "execution_count": 4,
   "id": "8cfe518e",
   "metadata": {},
   "outputs": [
    {
     "name": "stdout",
     "output_type": "stream",
     "text": [
      "CPU times: user 775 ms, sys: 0 ns, total: 775 ms\n",
      "Wall time: 783 ms\n"
     ]
    }
   ],
   "source": [
    "%%time\n",
    "\n",
    "# удаляю из списка фильмов фильмы с менее чем тремя оценками на весь датасет\n",
    "data = ratings_main.groupby('element_uid').agg({'element_uid': ['count']})\n",
    "ind = set(data[data['element_uid']['count'] > 2].index)\n",
    "grouped = ratings_main.groupby('element_uid')\n",
    "ratings_main = grouped.filter(lambda x: set(x['element_uid']).issubset(ind))\n",
    "\n",
    "# удаляю строки с оценкой фильма 0 (используется шкала от 1 до 10, поэтому это мусор)\n",
    "ratings_main.drop(labels=ratings_main.groupby('rating').get_group(0).index, \n",
    "                  inplace=True)\n",
    "\n",
    "# отбираю 130_000 строк для обучения и 35_000 строк для тестирования\n",
    "# с помощью стратифицированной по элементам выборки\n",
    "sss = StratifiedShuffleSplit(n_splits=1, train_size=130_000, \n",
    "                             test_size=35_000, random_state=0)\n",
    "for _, (train_index, test_index) in enumerate(sss.split(ratings_main, ratings_main['element_uid'])):\n",
    "    ratings_train = ratings_main.iloc[train_index].copy()\n",
    "    ratings_test = ratings_main.iloc[test_index].copy()"
   ]
  },
  {
   "cell_type": "code",
   "execution_count": 5,
   "id": "bf0750f8",
   "metadata": {
    "scrolled": true
   },
   "outputs": [
    {
     "data": {
      "text/html": [
       "<div>\n",
       "<style scoped>\n",
       "    .dataframe tbody tr th:only-of-type {\n",
       "        vertical-align: middle;\n",
       "    }\n",
       "\n",
       "    .dataframe tbody tr th {\n",
       "        vertical-align: top;\n",
       "    }\n",
       "\n",
       "    .dataframe thead th {\n",
       "        text-align: right;\n",
       "    }\n",
       "</style>\n",
       "<table border=\"1\" class=\"dataframe\">\n",
       "  <thead>\n",
       "    <tr style=\"text-align: right;\">\n",
       "      <th></th>\n",
       "      <th>user_uid</th>\n",
       "      <th>element_uid</th>\n",
       "      <th>rating</th>\n",
       "      <th>ts</th>\n",
       "    </tr>\n",
       "  </thead>\n",
       "  <tbody>\n",
       "    <tr>\n",
       "      <th>383899</th>\n",
       "      <td>537756</td>\n",
       "      <td>7179</td>\n",
       "      <td>8</td>\n",
       "      <td>4.201520e+07</td>\n",
       "    </tr>\n",
       "    <tr>\n",
       "      <th>133946</th>\n",
       "      <td>53885</td>\n",
       "      <td>9657</td>\n",
       "      <td>9</td>\n",
       "      <td>4.346024e+07</td>\n",
       "    </tr>\n",
       "    <tr>\n",
       "      <th>432486</th>\n",
       "      <td>359190</td>\n",
       "      <td>9894</td>\n",
       "      <td>10</td>\n",
       "      <td>4.175567e+07</td>\n",
       "    </tr>\n",
       "    <tr>\n",
       "      <th>355227</th>\n",
       "      <td>352028</td>\n",
       "      <td>2807</td>\n",
       "      <td>8</td>\n",
       "      <td>4.218910e+07</td>\n",
       "    </tr>\n",
       "    <tr>\n",
       "      <th>115338</th>\n",
       "      <td>6239</td>\n",
       "      <td>1435</td>\n",
       "      <td>8</td>\n",
       "      <td>4.356288e+07</td>\n",
       "    </tr>\n",
       "    <tr>\n",
       "      <th>180645</th>\n",
       "      <td>103177</td>\n",
       "      <td>3113</td>\n",
       "      <td>10</td>\n",
       "      <td>4.321203e+07</td>\n",
       "    </tr>\n",
       "    <tr>\n",
       "      <th>214552</th>\n",
       "      <td>342591</td>\n",
       "      <td>503</td>\n",
       "      <td>7</td>\n",
       "      <td>4.305285e+07</td>\n",
       "    </tr>\n",
       "    <tr>\n",
       "      <th>385205</th>\n",
       "      <td>9097</td>\n",
       "      <td>3336</td>\n",
       "      <td>10</td>\n",
       "      <td>4.200697e+07</td>\n",
       "    </tr>\n",
       "    <tr>\n",
       "      <th>430887</th>\n",
       "      <td>164994</td>\n",
       "      <td>3336</td>\n",
       "      <td>9</td>\n",
       "      <td>4.176695e+07</td>\n",
       "    </tr>\n",
       "    <tr>\n",
       "      <th>395255</th>\n",
       "      <td>8504</td>\n",
       "      <td>2923</td>\n",
       "      <td>8</td>\n",
       "      <td>4.196499e+07</td>\n",
       "    </tr>\n",
       "  </tbody>\n",
       "</table>\n",
       "</div>"
      ],
      "text/plain": [
       "        user_uid  element_uid  rating            ts\n",
       "383899    537756         7179       8  4.201520e+07\n",
       "133946     53885         9657       9  4.346024e+07\n",
       "432486    359190         9894      10  4.175567e+07\n",
       "355227    352028         2807       8  4.218910e+07\n",
       "115338      6239         1435       8  4.356288e+07\n",
       "180645    103177         3113      10  4.321203e+07\n",
       "214552    342591          503       7  4.305285e+07\n",
       "385205      9097         3336      10  4.200697e+07\n",
       "430887    164994         3336       9  4.176695e+07\n",
       "395255      8504         2923       8  4.196499e+07"
      ]
     },
     "execution_count": 5,
     "metadata": {},
     "output_type": "execute_result"
    }
   ],
   "source": [
    "ratings_train.head(10)"
   ]
  },
  {
   "cell_type": "code",
   "execution_count": 6,
   "id": "7ab48231",
   "metadata": {},
   "outputs": [],
   "source": [
    "ratings_train = ratings_train[['user_uid', 'element_uid', 'rating']] # убираю временные метки\n",
    "ratings_test = ratings_test[['user_uid', 'element_uid', 'rating']]"
   ]
  },
  {
   "cell_type": "code",
   "execution_count": 7,
   "id": "7981a348",
   "metadata": {},
   "outputs": [],
   "source": [
    "from pyspark.ml.recommendation import ALS\n",
    "from pyspark.ml.evaluation import RegressionEvaluator"
   ]
  },
  {
   "cell_type": "code",
   "execution_count": 8,
   "id": "d875b2a3",
   "metadata": {},
   "outputs": [],
   "source": [
    "# подбираю лучшую модель с помощью перебора разных параметров\n",
    "# модель оценивается при помощи RMSE\n",
    "# результаты записываются в Pandas DataFrame\n",
    "\n",
    "def tune_ALS(train_data, validation_data, regParams, ranks, maxIter=10):\n",
    "    df = pd.DataFrame(data={'rank':[0], 'regParam':[0.0], 'rmse':[0.0]})\n",
    "    \n",
    "    for rank in ranks:\n",
    "        for reg in regParams:\n",
    "            # создание модели\n",
    "            als = ALS(rank=rank, maxIter=maxIter, regParam=reg, seed=0)\n",
    "            als.setUserCol('user_uid')\n",
    "            als.setItemCol('element_uid')\n",
    "            # обучение модели\n",
    "            model = als.fit(train_data)\n",
    "            model.setColdStartStrategy('drop')\n",
    "            # расчет RMSE на валидационных данных\n",
    "            predictions = model.transform(validation_data)\n",
    "            evaluator = RegressionEvaluator(metricName='rmse',\n",
    "                                            labelCol='rating',\n",
    "                                            predictionCol='prediction')\n",
    "            rmse = evaluator.evaluate(predictions)\n",
    "            df1 = pd.DataFrame(data={'rank':[rank], 'regParam':[reg], 'rmse':[rmse]})\n",
    "            df = pd.concat([df, df1], ignore_index=True)\n",
    "            \n",
    "    return df.copy()"
   ]
  },
  {
   "cell_type": "code",
   "execution_count": 9,
   "id": "9c9b2446",
   "metadata": {},
   "outputs": [
    {
     "name": "stderr",
     "output_type": "stream",
     "text": [
      "23/05/30 05:39:43 WARN Utils: Your hostname, mypc resolves to a loopback address: 127.0.1.1; using 192.168.31.90 instead (on interface wlo1)\n",
      "23/05/30 05:39:43 WARN Utils: Set SPARK_LOCAL_IP if you need to bind to another address\n",
      "Setting default log level to \"WARN\".\n",
      "To adjust logging level use sc.setLogLevel(newLevel). For SparkR, use setLogLevel(newLevel).\n",
      "23/05/30 05:39:43 WARN NativeCodeLoader: Unable to load native-hadoop library for your platform... using builtin-java classes where applicable\n",
      "/home/aya/.local/lib/python3.8/site-packages/pyspark/sql/pandas/conversion.py:428: UserWarning: createDataFrame attempted Arrow optimization because 'spark.sql.execution.arrow.pyspark.enabled' is set to true; however, failed by the reason below:\n",
      "  Unsupported type in conversion from Arrow: uint32\n",
      "Attempting non-optimization as 'spark.sql.execution.arrow.pyspark.fallback.enabled' is set to true.\n",
      "  warn(msg)\n"
     ]
    },
    {
     "name": "stdout",
     "output_type": "stream",
     "text": [
      "root\n",
      " |-- user_uid: long (nullable = true)\n",
      " |-- element_uid: long (nullable = true)\n",
      " |-- rating: long (nullable = true)\n",
      "\n"
     ]
    }
   ],
   "source": [
    "from pyspark.sql import SparkSession\n",
    " \n",
    "# создаю SparkSession под названием 'pandas to spark'\n",
    "spark = SparkSession.builder.appName('pandas to spark').getOrCreate()\n",
    "spark.sparkContext.setLogLevel(\"ERROR\")\n",
    "\n",
    "# Apache Arrow используется для конвертации\n",
    "# Pandas DataFrame в pySpark DataFrame \n",
    "spark.conf.set('spark.sql.execution.arrow.pyspark.enabled', 'true')\n",
    " \n",
    "# создаю DataFrame\n",
    "spark_train = spark.createDataFrame(ratings_train)\n",
    "spark_test = spark.createDataFrame(ratings_test)\n",
    "spark_train.printSchema()"
   ]
  },
  {
   "cell_type": "code",
   "execution_count": 10,
   "id": "f8472f5a",
   "metadata": {
    "scrolled": false
   },
   "outputs": [
    {
     "name": "stderr",
     "output_type": "stream",
     "text": [
      "                                                                                \r"
     ]
    }
   ],
   "source": [
    "# перебор параметров\n",
    "df = tune_ALS(spark_train, spark_test, \n",
    "              [0.01, 0.1, 1, 10], \n",
    "              [2, 10, 50, 100])"
   ]
  },
  {
   "cell_type": "code",
   "execution_count": 11,
   "id": "5233ab85",
   "metadata": {},
   "outputs": [
    {
     "data": {
      "text/html": [
       "<div>\n",
       "<style scoped>\n",
       "    .dataframe tbody tr th:only-of-type {\n",
       "        vertical-align: middle;\n",
       "    }\n",
       "\n",
       "    .dataframe tbody tr th {\n",
       "        vertical-align: top;\n",
       "    }\n",
       "\n",
       "    .dataframe thead th {\n",
       "        text-align: right;\n",
       "    }\n",
       "</style>\n",
       "<table border=\"1\" class=\"dataframe\">\n",
       "  <thead>\n",
       "    <tr style=\"text-align: right;\">\n",
       "      <th></th>\n",
       "      <th>rank</th>\n",
       "      <th>regParam</th>\n",
       "      <th>rmse</th>\n",
       "    </tr>\n",
       "  </thead>\n",
       "  <tbody>\n",
       "    <tr>\n",
       "      <th>1</th>\n",
       "      <td>2</td>\n",
       "      <td>0.01</td>\n",
       "      <td>23.858659</td>\n",
       "    </tr>\n",
       "    <tr>\n",
       "      <th>2</th>\n",
       "      <td>2</td>\n",
       "      <td>0.10</td>\n",
       "      <td>6.973863</td>\n",
       "    </tr>\n",
       "    <tr>\n",
       "      <th>3</th>\n",
       "      <td>2</td>\n",
       "      <td>1.00</td>\n",
       "      <td>2.337052</td>\n",
       "    </tr>\n",
       "    <tr>\n",
       "      <th>4</th>\n",
       "      <td>2</td>\n",
       "      <td>10.00</td>\n",
       "      <td>8.428251</td>\n",
       "    </tr>\n",
       "    <tr>\n",
       "      <th>5</th>\n",
       "      <td>10</td>\n",
       "      <td>0.01</td>\n",
       "      <td>11.531024</td>\n",
       "    </tr>\n",
       "    <tr>\n",
       "      <th>6</th>\n",
       "      <td>10</td>\n",
       "      <td>0.10</td>\n",
       "      <td>4.341076</td>\n",
       "    </tr>\n",
       "    <tr>\n",
       "      <th>7</th>\n",
       "      <td>10</td>\n",
       "      <td>1.00</td>\n",
       "      <td>2.283780</td>\n",
       "    </tr>\n",
       "    <tr>\n",
       "      <th>8</th>\n",
       "      <td>10</td>\n",
       "      <td>10.00</td>\n",
       "      <td>8.428251</td>\n",
       "    </tr>\n",
       "    <tr>\n",
       "      <th>9</th>\n",
       "      <td>50</td>\n",
       "      <td>0.01</td>\n",
       "      <td>4.883948</td>\n",
       "    </tr>\n",
       "    <tr>\n",
       "      <th>10</th>\n",
       "      <td>50</td>\n",
       "      <td>0.10</td>\n",
       "      <td>3.736698</td>\n",
       "    </tr>\n",
       "    <tr>\n",
       "      <th>11</th>\n",
       "      <td>50</td>\n",
       "      <td>1.00</td>\n",
       "      <td>2.279337</td>\n",
       "    </tr>\n",
       "    <tr>\n",
       "      <th>12</th>\n",
       "      <td>50</td>\n",
       "      <td>10.00</td>\n",
       "      <td>8.428251</td>\n",
       "    </tr>\n",
       "    <tr>\n",
       "      <th>13</th>\n",
       "      <td>100</td>\n",
       "      <td>0.01</td>\n",
       "      <td>3.909147</td>\n",
       "    </tr>\n",
       "    <tr>\n",
       "      <th>14</th>\n",
       "      <td>100</td>\n",
       "      <td>0.10</td>\n",
       "      <td>3.629209</td>\n",
       "    </tr>\n",
       "    <tr>\n",
       "      <th>15</th>\n",
       "      <td>100</td>\n",
       "      <td>1.00</td>\n",
       "      <td>2.274526</td>\n",
       "    </tr>\n",
       "    <tr>\n",
       "      <th>16</th>\n",
       "      <td>100</td>\n",
       "      <td>10.00</td>\n",
       "      <td>8.428251</td>\n",
       "    </tr>\n",
       "  </tbody>\n",
       "</table>\n",
       "</div>"
      ],
      "text/plain": [
       "    rank  regParam       rmse\n",
       "1      2      0.01  23.858659\n",
       "2      2      0.10   6.973863\n",
       "3      2      1.00   2.337052\n",
       "4      2     10.00   8.428251\n",
       "5     10      0.01  11.531024\n",
       "6     10      0.10   4.341076\n",
       "7     10      1.00   2.283780\n",
       "8     10     10.00   8.428251\n",
       "9     50      0.01   4.883948\n",
       "10    50      0.10   3.736698\n",
       "11    50      1.00   2.279337\n",
       "12    50     10.00   8.428251\n",
       "13   100      0.01   3.909147\n",
       "14   100      0.10   3.629209\n",
       "15   100      1.00   2.274526\n",
       "16   100     10.00   8.428251"
      ]
     },
     "execution_count": 11,
     "metadata": {},
     "output_type": "execute_result"
    }
   ],
   "source": [
    "df = df.iloc[1:] # DataFrame поможет визуализировать результаты\n",
    "df"
   ]
  },
  {
   "cell_type": "code",
   "execution_count": 12,
   "id": "e1c72e66",
   "metadata": {},
   "outputs": [],
   "source": [
    "import matplotlib.pyplot as plt\n",
    "import seaborn as sns\n",
    "sns.set(style='whitegrid')\n",
    "\n",
    "import warnings\n",
    "warnings.filterwarnings('ignore')"
   ]
  },
  {
   "cell_type": "code",
   "execution_count": 13,
   "id": "94e4db7f",
   "metadata": {
    "scrolled": true
   },
   "outputs": [
    {
     "data": {
      "image/png": "[encoded data removed]",
      "text/plain": [
       "<Figure size 432x288 with 1 Axes>"
      ]
     },
     "metadata": {},
     "output_type": "display_data"
    }
   ],
   "source": [
    "sns.lineplot(x='regParam', y='rmse', data=df,\n",
    "            hue='rank')\n",
    "plt.xlabel('Значение параметра регуляризации')\n",
    "plt.ylabel('RMSE')\n",
    "plt.savefig('ALS1.png', transparent=True)\n",
    "plt.show()"
   ]
  },
  {
   "cell_type": "markdown",
   "id": "1d4925a3",
   "metadata": {},
   "source": [
    "Так как мы хотим минимизировать ошибку, рассмотрим подробнее при значениях параметра регуляризации, меньших единицы, и ранге от 50 до 100:"
   ]
  },
  {
   "cell_type": "code",
   "execution_count": 14,
   "id": "0eea1a99",
   "metadata": {
    "scrolled": true
   },
   "outputs": [
    {
     "name": "stderr",
     "output_type": "stream",
     "text": [
      "                                                                                \r"
     ]
    }
   ],
   "source": [
    "df1 = tune_ALS(spark_train, spark_test, \n",
    "              [0.1, 0.4, 0.7, 1], \n",
    "              [50, 60, 70, 80, 90, 100])"
   ]
  },
  {
   "cell_type": "code",
   "execution_count": 15,
   "id": "32fadc4f",
   "metadata": {},
   "outputs": [
    {
     "data": {
      "text/html": [
       "<div>\n",
       "<style scoped>\n",
       "    .dataframe tbody tr th:only-of-type {\n",
       "        vertical-align: middle;\n",
       "    }\n",
       "\n",
       "    .dataframe tbody tr th {\n",
       "        vertical-align: top;\n",
       "    }\n",
       "\n",
       "    .dataframe thead th {\n",
       "        text-align: right;\n",
       "    }\n",
       "</style>\n",
       "<table border=\"1\" class=\"dataframe\">\n",
       "  <thead>\n",
       "    <tr style=\"text-align: right;\">\n",
       "      <th></th>\n",
       "      <th>rank</th>\n",
       "      <th>regParam</th>\n",
       "      <th>rmse</th>\n",
       "    </tr>\n",
       "  </thead>\n",
       "  <tbody>\n",
       "    <tr>\n",
       "      <th>1</th>\n",
       "      <td>50</td>\n",
       "      <td>0.1</td>\n",
       "      <td>3.736698</td>\n",
       "    </tr>\n",
       "    <tr>\n",
       "      <th>2</th>\n",
       "      <td>50</td>\n",
       "      <td>0.4</td>\n",
       "      <td>2.366010</td>\n",
       "    </tr>\n",
       "    <tr>\n",
       "      <th>3</th>\n",
       "      <td>50</td>\n",
       "      <td>0.7</td>\n",
       "      <td>2.256177</td>\n",
       "    </tr>\n",
       "    <tr>\n",
       "      <th>4</th>\n",
       "      <td>50</td>\n",
       "      <td>1.0</td>\n",
       "      <td>2.279337</td>\n",
       "    </tr>\n",
       "    <tr>\n",
       "      <th>5</th>\n",
       "      <td>60</td>\n",
       "      <td>0.1</td>\n",
       "      <td>3.730703</td>\n",
       "    </tr>\n",
       "    <tr>\n",
       "      <th>6</th>\n",
       "      <td>60</td>\n",
       "      <td>0.4</td>\n",
       "      <td>2.364981</td>\n",
       "    </tr>\n",
       "    <tr>\n",
       "      <th>7</th>\n",
       "      <td>60</td>\n",
       "      <td>0.7</td>\n",
       "      <td>2.256699</td>\n",
       "    </tr>\n",
       "    <tr>\n",
       "      <th>8</th>\n",
       "      <td>60</td>\n",
       "      <td>1.0</td>\n",
       "      <td>2.279998</td>\n",
       "    </tr>\n",
       "    <tr>\n",
       "      <th>9</th>\n",
       "      <td>70</td>\n",
       "      <td>0.1</td>\n",
       "      <td>3.685005</td>\n",
       "    </tr>\n",
       "    <tr>\n",
       "      <th>10</th>\n",
       "      <td>70</td>\n",
       "      <td>0.4</td>\n",
       "      <td>2.362341</td>\n",
       "    </tr>\n",
       "    <tr>\n",
       "      <th>11</th>\n",
       "      <td>70</td>\n",
       "      <td>0.7</td>\n",
       "      <td>2.255947</td>\n",
       "    </tr>\n",
       "    <tr>\n",
       "      <th>12</th>\n",
       "      <td>70</td>\n",
       "      <td>1.0</td>\n",
       "      <td>2.278721</td>\n",
       "    </tr>\n",
       "    <tr>\n",
       "      <th>13</th>\n",
       "      <td>80</td>\n",
       "      <td>0.1</td>\n",
       "      <td>3.670364</td>\n",
       "    </tr>\n",
       "    <tr>\n",
       "      <th>14</th>\n",
       "      <td>80</td>\n",
       "      <td>0.4</td>\n",
       "      <td>2.361774</td>\n",
       "    </tr>\n",
       "    <tr>\n",
       "      <th>15</th>\n",
       "      <td>80</td>\n",
       "      <td>0.7</td>\n",
       "      <td>2.255093</td>\n",
       "    </tr>\n",
       "    <tr>\n",
       "      <th>16</th>\n",
       "      <td>80</td>\n",
       "      <td>1.0</td>\n",
       "      <td>2.278363</td>\n",
       "    </tr>\n",
       "    <tr>\n",
       "      <th>17</th>\n",
       "      <td>90</td>\n",
       "      <td>0.1</td>\n",
       "      <td>3.679578</td>\n",
       "    </tr>\n",
       "    <tr>\n",
       "      <th>18</th>\n",
       "      <td>90</td>\n",
       "      <td>0.4</td>\n",
       "      <td>2.360294</td>\n",
       "    </tr>\n",
       "    <tr>\n",
       "      <th>19</th>\n",
       "      <td>90</td>\n",
       "      <td>0.7</td>\n",
       "      <td>2.253692</td>\n",
       "    </tr>\n",
       "    <tr>\n",
       "      <th>20</th>\n",
       "      <td>90</td>\n",
       "      <td>1.0</td>\n",
       "      <td>2.276997</td>\n",
       "    </tr>\n",
       "    <tr>\n",
       "      <th>21</th>\n",
       "      <td>100</td>\n",
       "      <td>0.1</td>\n",
       "      <td>3.629209</td>\n",
       "    </tr>\n",
       "    <tr>\n",
       "      <th>22</th>\n",
       "      <td>100</td>\n",
       "      <td>0.4</td>\n",
       "      <td>2.351626</td>\n",
       "    </tr>\n",
       "    <tr>\n",
       "      <th>23</th>\n",
       "      <td>100</td>\n",
       "      <td>0.7</td>\n",
       "      <td>2.249565</td>\n",
       "    </tr>\n",
       "    <tr>\n",
       "      <th>24</th>\n",
       "      <td>100</td>\n",
       "      <td>1.0</td>\n",
       "      <td>2.274526</td>\n",
       "    </tr>\n",
       "  </tbody>\n",
       "</table>\n",
       "</div>"
      ],
      "text/plain": [
       "    rank  regParam      rmse\n",
       "1     50       0.1  3.736698\n",
       "2     50       0.4  2.366010\n",
       "3     50       0.7  2.256177\n",
       "4     50       1.0  2.279337\n",
       "5     60       0.1  3.730703\n",
       "6     60       0.4  2.364981\n",
       "7     60       0.7  2.256699\n",
       "8     60       1.0  2.279998\n",
       "9     70       0.1  3.685005\n",
       "10    70       0.4  2.362341\n",
       "11    70       0.7  2.255947\n",
       "12    70       1.0  2.278721\n",
       "13    80       0.1  3.670364\n",
       "14    80       0.4  2.361774\n",
       "15    80       0.7  2.255093\n",
       "16    80       1.0  2.278363\n",
       "17    90       0.1  3.679578\n",
       "18    90       0.4  2.360294\n",
       "19    90       0.7  2.253692\n",
       "20    90       1.0  2.276997\n",
       "21   100       0.1  3.629209\n",
       "22   100       0.4  2.351626\n",
       "23   100       0.7  2.249565\n",
       "24   100       1.0  2.274526"
      ]
     },
     "execution_count": 15,
     "metadata": {},
     "output_type": "execute_result"
    }
   ],
   "source": [
    "df1 = df1.iloc[1:]\n",
    "df1"
   ]
  },
  {
   "cell_type": "code",
   "execution_count": 16,
   "id": "2b30654c",
   "metadata": {},
   "outputs": [
    {
     "data": {
      "image/png": "[encoded data removed]",
      "text/plain": [
       "<Figure size 432x288 with 1 Axes>"
      ]
     },
     "metadata": {},
     "output_type": "display_data"
    }
   ],
   "source": [
    "sns.lineplot(x='regParam', y='rmse', data=df1,\n",
    "            hue='rank')\n",
    "plt.xlabel('Значение параметра регуляризации')\n",
    "plt.ylabel('RMSE')\n",
    "plt.savefig('ALS2.png', transparent=True)\n",
    "plt.show()"
   ]
  },
  {
   "cell_type": "markdown",
   "id": "e71c773b",
   "metadata": {},
   "source": [
    "Посмотрим, при каких значениях параметра достигается минимум RMSE:"
   ]
  },
  {
   "cell_type": "code",
   "execution_count": 17,
   "id": "2e381d4c",
   "metadata": {},
   "outputs": [
    {
     "data": {
      "text/html": [
       "<div>\n",
       "<style scoped>\n",
       "    .dataframe tbody tr th:only-of-type {\n",
       "        vertical-align: middle;\n",
       "    }\n",
       "\n",
       "    .dataframe tbody tr th {\n",
       "        vertical-align: top;\n",
       "    }\n",
       "\n",
       "    .dataframe thead th {\n",
       "        text-align: right;\n",
       "    }\n",
       "</style>\n",
       "<table border=\"1\" class=\"dataframe\">\n",
       "  <thead>\n",
       "    <tr style=\"text-align: right;\">\n",
       "      <th></th>\n",
       "      <th>rank</th>\n",
       "      <th>regParam</th>\n",
       "      <th>rmse</th>\n",
       "    </tr>\n",
       "  </thead>\n",
       "  <tbody>\n",
       "    <tr>\n",
       "      <th>23</th>\n",
       "      <td>100</td>\n",
       "      <td>0.7</td>\n",
       "      <td>2.249565</td>\n",
       "    </tr>\n",
       "  </tbody>\n",
       "</table>\n",
       "</div>"
      ],
      "text/plain": [
       "    rank  regParam      rmse\n",
       "23   100       0.7  2.249565"
      ]
     },
     "execution_count": 17,
     "metadata": {},
     "output_type": "execute_result"
    }
   ],
   "source": [
    "df1[df1['rmse']==df1['rmse'].min()]"
   ]
  },
  {
   "cell_type": "code",
   "execution_count": 18,
   "id": "4f1caf97",
   "metadata": {},
   "outputs": [],
   "source": [
    "# оптимальные параметры для выбранного датасета\n",
    "rank = 100\n",
    "regParam = 0.7"
   ]
  },
  {
   "cell_type": "code",
   "execution_count": 19,
   "id": "1c68cb94",
   "metadata": {},
   "outputs": [
    {
     "name": "stderr",
     "output_type": "stream",
     "text": [
      "                                                                                \r"
     ]
    },
    {
     "name": "stdout",
     "output_type": "stream",
     "text": [
      "CPU times: user 71.6 ms, sys: 4.37 ms, total: 76 ms\n",
      "Wall time: 47.5 s\n"
     ]
    },
    {
     "name": "stderr",
     "output_type": "stream",
     "text": [
      "\r",
      "[Stage 4758:============================================>          (8 + 2) / 10]\r",
      "\r",
      "                                                                                \r"
     ]
    }
   ],
   "source": [
    "%%time\n",
    "\n",
    "als = ALS(rank=rank, regParam=regParam, maxIter=10, seed=0)\n",
    "als.setUserCol('user_uid')\n",
    "als.setItemCol('element_uid')\n",
    "# обучение модели\n",
    "model = als.fit(spark_train)\n",
    "model.setColdStartStrategy('drop')\n",
    "predictions_test = model.transform(spark_test) # прогнозы на тестовых данных"
   ]
  },
  {
   "cell_type": "code",
   "execution_count": 20,
   "id": "a2c50e5e",
   "metadata": {},
   "outputs": [
    {
     "name": "stdout",
     "output_type": "stream",
     "text": [
      "100 latent factors and regularization = 0.7: test RMSE is 2.2495654170098622\n"
     ]
    },
    {
     "name": "stderr",
     "output_type": "stream",
     "text": [
      "\r",
      "[Stage 4899:>                                                       (0 + 8) / 8]\r"
     ]
    },
    {
     "name": "stdout",
     "output_type": "stream",
     "text": [
      "100 latent factors and regularization = 0.7: train RMSE is 1.1164846733350684\n"
     ]
    },
    {
     "name": "stderr",
     "output_type": "stream",
     "text": [
      "\r",
      "                                                                                \r"
     ]
    }
   ],
   "source": [
    "predictions_train = model.transform(spark_train) # прогнозы на тренировочных данных\n",
    "evaluator = RegressionEvaluator(metricName='rmse',\n",
    "                                labelCol='rating',\n",
    "                                predictionCol='prediction')\n",
    "rmse_test = evaluator.evaluate(predictions_test)\n",
    "print(f'{rank} latent factors and regularization = {regParam}: ' \n",
    "      f'test RMSE is {rmse_test}')\n",
    "rmse_train = evaluator.evaluate(predictions_train)\n",
    "print(f'{rank} latent factors and regularization = {regParam}: ' \n",
    "      f'train RMSE is {rmse_train}')"
   ]
  },
  {
   "cell_type": "code",
   "execution_count": 21,
   "id": "eccfcc56",
   "metadata": {
    "scrolled": true
   },
   "outputs": [
    {
     "name": "stdout",
     "output_type": "stream",
     "text": [
      "+--------+-----------+------+----------+\n",
      "|user_uid|element_uid|rating|prediction|\n",
      "+--------+-----------+------+----------+\n",
      "|  114910|       1238|    10|  8.426525|\n",
      "|  167974|       4519|    10| 5.1506243|\n",
      "|  201566|       2659|     7| 7.2862873|\n",
      "|  207623|       4519|    10| 6.2007885|\n",
      "|  216377|       8592|     7| 7.6536365|\n",
      "|  252099|       2866|     9| 3.6358652|\n",
      "|  254353|       1238|    10|  7.707731|\n",
      "|  256337|       9900|    10|  8.776737|\n",
      "|  259486|       8592|     7| 6.6117353|\n",
      "|  300472|       4519|     7| 7.0859327|\n",
      "+--------+-----------+------+----------+\n",
      "only showing top 10 rows\n",
      "\n"
     ]
    }
   ],
   "source": [
    "predictions_test.show(10)"
   ]
  },
  {
   "cell_type": "code",
   "execution_count": 22,
   "id": "69352ae8",
   "metadata": {},
   "outputs": [
    {
     "name": "stdout",
     "output_type": "stream",
     "text": [
      "+--------+-----------+------+----------+\n",
      "|user_uid|element_uid|rating|prediction|\n",
      "+--------+-----------+------+----------+\n",
      "|    7634|       8592|     5| 4.5959888|\n",
      "|   16791|       4519|     8| 7.1391373|\n",
      "|   16916|       9427|     8|  8.227643|\n",
      "|   18209|       7340|     9|  8.413807|\n",
      "|   18613|       1238|     8| 6.5373917|\n",
      "|   19509|       4519|    10|  9.228175|\n",
      "|   21307|       1238|     9|  8.248903|\n",
      "|   26583|       6397|    10|  8.461562|\n",
      "|   30769|       4519|     8|  8.393911|\n",
      "|   34677|       4519|     9|  8.743662|\n",
      "+--------+-----------+------+----------+\n",
      "only showing top 10 rows\n",
      "\n"
     ]
    }
   ],
   "source": [
    "predictions_train.show(10)"
   ]
  },
  {
   "cell_type": "markdown",
   "id": "13766e63",
   "metadata": {},
   "source": [
    "Уже по первым 10-ти строкам видно, что модель довольно неплохо приближает тренировочный датасет (а значение метрики rmse даёт понять, что в среднем на нём она ошибается примерно на единицу), хотя, что интересно, имеет тенденцию занижать оценки. На тестовом датасете она справляется хуже и иногда выдаёт совсем нерелевантные прогнозы (например, оценка пользователем 252099 элемента 2866), однако в среднем ошибается на две единицы. При этом тренировочный датасет содержит 130_000 строк, а тестовый --- 35_000. "
   ]
  },
  {
   "cell_type": "markdown",
   "id": "30d6fce8",
   "metadata": {},
   "source": [
    "Посмотрим, как увеличение датасета повлияет на качество модели:"
   ]
  },
  {
   "cell_type": "code",
   "execution_count": 23,
   "id": "da5fd7ba",
   "metadata": {},
   "outputs": [],
   "source": [
    "# отбираю 260_000 строк для обучения и 70_000 строк для тестирования\n",
    "# с помощью стратифицированной по элементам выборки\n",
    "sss = StratifiedShuffleSplit(n_splits=1, train_size=260_000, \n",
    "                             test_size=70_000, random_state=0)\n",
    "for _, (train_index, test_index) in enumerate(sss.split(ratings_main, ratings_main['element_uid'])):\n",
    "    ratings_train = ratings_main.iloc[train_index].copy()\n",
    "    ratings_test = ratings_main.iloc[test_index].copy()"
   ]
  },
  {
   "cell_type": "code",
   "execution_count": 24,
   "id": "250962dc",
   "metadata": {},
   "outputs": [],
   "source": [
    "ratings_train = ratings_train[['user_uid', 'element_uid', 'rating']]\n",
    "ratings_test = ratings_test[['user_uid', 'element_uid', 'rating']]"
   ]
  },
  {
   "cell_type": "code",
   "execution_count": 25,
   "id": "5d318c9e",
   "metadata": {},
   "outputs": [
    {
     "name": "stdout",
     "output_type": "stream",
     "text": [
      "root\n",
      " |-- user_uid: long (nullable = true)\n",
      " |-- element_uid: long (nullable = true)\n",
      " |-- rating: long (nullable = true)\n",
      "\n"
     ]
    }
   ],
   "source": [
    "# создаю SparkSession под названием 'pandas to spark'\n",
    "spark = SparkSession.builder.appName('pandas to spark').getOrCreate()\n",
    "spark.sparkContext.setLogLevel(\"ERROR\")\n",
    "\n",
    "# Apache Arrow используется для конвертации\n",
    "# Pandas DataFrame в pySpark DataFrame \n",
    "spark.conf.set('spark.sql.execution.arrow.pyspark.enabled', 'true')\n",
    " \n",
    "# создаю DataFrame\n",
    "spark_train = spark.createDataFrame(ratings_train)\n",
    "spark_test = spark.createDataFrame(ratings_test)\n",
    "spark_train.printSchema()"
   ]
  },
  {
   "cell_type": "code",
   "execution_count": 26,
   "id": "0c684fee",
   "metadata": {},
   "outputs": [
    {
     "name": "stderr",
     "output_type": "stream",
     "text": [
      "[Stage 5116:=================================================>     (9 + 1) / 10]\r"
     ]
    },
    {
     "name": "stdout",
     "output_type": "stream",
     "text": [
      "CPU times: user 90.7 ms, sys: 0 ns, total: 90.7 ms\n",
      "Wall time: 1min 11s\n"
     ]
    },
    {
     "name": "stderr",
     "output_type": "stream",
     "text": [
      "\r",
      "                                                                                \r"
     ]
    }
   ],
   "source": [
    "%%time\n",
    "\n",
    "als = ALS(rank=rank, regParam=regParam, maxIter=10, seed=0)\n",
    "als.setUserCol('user_uid')\n",
    "als.setItemCol('element_uid')\n",
    "# обучение модели\n",
    "model = als.fit(spark_train)\n",
    "model.setColdStartStrategy('drop');\n",
    "predictions_test = model.transform(spark_test) # прогнозы на тестовых данных"
   ]
  },
  {
   "cell_type": "code",
   "execution_count": 27,
   "id": "c04674f3",
   "metadata": {},
   "outputs": [
    {
     "name": "stdout",
     "output_type": "stream",
     "text": [
      "100 latent factors and regularization = 0.7: test RMSE is 2.036019546805109\n"
     ]
    },
    {
     "name": "stderr",
     "output_type": "stream",
     "text": [
      "\r",
      "[Stage 5279:>                                                       (0 + 8) / 8]\r"
     ]
    },
    {
     "name": "stdout",
     "output_type": "stream",
     "text": [
      "100 latent factors and regularization = 0.7: train RMSE is 1.3244280391467262\n"
     ]
    },
    {
     "name": "stderr",
     "output_type": "stream",
     "text": [
      "\r",
      "[Stage 5279:===================================>                    (5 + 3) / 8]\r",
      "\r",
      "                                                                                \r"
     ]
    }
   ],
   "source": [
    "predictions_train = model.transform(spark_train) # прогнозы на тренировочных данных\n",
    "evaluator = RegressionEvaluator(metricName='rmse',\n",
    "                                labelCol='rating',\n",
    "                                predictionCol='prediction')\n",
    "rmse_test = evaluator.evaluate(predictions_test)\n",
    "print(f'{rank} latent factors and regularization = {regParam}: ' \n",
    "      f'test RMSE is {rmse_test}')\n",
    "rmse_train = evaluator.evaluate(predictions_train)\n",
    "print(f'{rank} latent factors and regularization = {regParam}: ' \n",
    "      f'train RMSE is {rmse_train}')"
   ]
  },
  {
   "cell_type": "markdown",
   "id": "504217f3",
   "metadata": {},
   "source": [
    "Интересно, что увеличение тренировочного и тестового датасетов в два раза при тех же параметрах не помогло добиться заметного улучшения прогностической способности модели: значение метрики на тестовом датасете уменьшилось на 0.2, а на тестовом выросло на те же 0.2. При этом на обучение модели ушло лишь на 30% времени больше. "
   ]
  },
  {
   "cell_type": "markdown",
   "id": "0eb0b34f",
   "metadata": {},
   "source": [
    "Попробуем подобрать оптимальные параметры для этого датасета:"
   ]
  },
  {
   "cell_type": "code",
   "execution_count": 28,
   "id": "4673e528",
   "metadata": {
    "scrolled": true
   },
   "outputs": [
    {
     "name": "stderr",
     "output_type": "stream",
     "text": [
      "                                                                                \r"
     ]
    }
   ],
   "source": [
    "df1 = tune_ALS(spark_train, spark_test, \n",
    "              [0.1, 0.4, 0.7, 1], \n",
    "              [50, 60, 70, 80, 90, 100])"
   ]
  },
  {
   "cell_type": "code",
   "execution_count": 31,
   "id": "6d57fbee",
   "metadata": {},
   "outputs": [
    {
     "data": {
      "text/html": [
       "<div>\n",
       "<style scoped>\n",
       "    .dataframe tbody tr th:only-of-type {\n",
       "        vertical-align: middle;\n",
       "    }\n",
       "\n",
       "    .dataframe tbody tr th {\n",
       "        vertical-align: top;\n",
       "    }\n",
       "\n",
       "    .dataframe thead th {\n",
       "        text-align: right;\n",
       "    }\n",
       "</style>\n",
       "<table border=\"1\" class=\"dataframe\">\n",
       "  <thead>\n",
       "    <tr style=\"text-align: right;\">\n",
       "      <th></th>\n",
       "      <th>rank</th>\n",
       "      <th>regParam</th>\n",
       "      <th>rmse</th>\n",
       "    </tr>\n",
       "  </thead>\n",
       "  <tbody>\n",
       "    <tr>\n",
       "      <th>1</th>\n",
       "      <td>50</td>\n",
       "      <td>0.1</td>\n",
       "      <td>3.017379</td>\n",
       "    </tr>\n",
       "    <tr>\n",
       "      <th>2</th>\n",
       "      <td>50</td>\n",
       "      <td>0.4</td>\n",
       "      <td>2.074984</td>\n",
       "    </tr>\n",
       "    <tr>\n",
       "      <th>3</th>\n",
       "      <td>50</td>\n",
       "      <td>0.7</td>\n",
       "      <td>2.037107</td>\n",
       "    </tr>\n",
       "    <tr>\n",
       "      <th>4</th>\n",
       "      <td>50</td>\n",
       "      <td>1.0</td>\n",
       "      <td>2.113955</td>\n",
       "    </tr>\n",
       "    <tr>\n",
       "      <th>5</th>\n",
       "      <td>60</td>\n",
       "      <td>0.1</td>\n",
       "      <td>3.012323</td>\n",
       "    </tr>\n",
       "    <tr>\n",
       "      <th>6</th>\n",
       "      <td>60</td>\n",
       "      <td>0.4</td>\n",
       "      <td>2.078101</td>\n",
       "    </tr>\n",
       "    <tr>\n",
       "      <th>7</th>\n",
       "      <td>60</td>\n",
       "      <td>0.7</td>\n",
       "      <td>2.035633</td>\n",
       "    </tr>\n",
       "    <tr>\n",
       "      <th>8</th>\n",
       "      <td>60</td>\n",
       "      <td>1.0</td>\n",
       "      <td>2.113324</td>\n",
       "    </tr>\n",
       "    <tr>\n",
       "      <th>9</th>\n",
       "      <td>70</td>\n",
       "      <td>0.1</td>\n",
       "      <td>2.979702</td>\n",
       "    </tr>\n",
       "    <tr>\n",
       "      <th>10</th>\n",
       "      <td>70</td>\n",
       "      <td>0.4</td>\n",
       "      <td>2.073439</td>\n",
       "    </tr>\n",
       "    <tr>\n",
       "      <th>11</th>\n",
       "      <td>70</td>\n",
       "      <td>0.7</td>\n",
       "      <td>2.038862</td>\n",
       "    </tr>\n",
       "    <tr>\n",
       "      <th>12</th>\n",
       "      <td>70</td>\n",
       "      <td>1.0</td>\n",
       "      <td>2.114951</td>\n",
       "    </tr>\n",
       "    <tr>\n",
       "      <th>13</th>\n",
       "      <td>80</td>\n",
       "      <td>0.1</td>\n",
       "      <td>3.001354</td>\n",
       "    </tr>\n",
       "    <tr>\n",
       "      <th>14</th>\n",
       "      <td>80</td>\n",
       "      <td>0.4</td>\n",
       "      <td>2.072774</td>\n",
       "    </tr>\n",
       "    <tr>\n",
       "      <th>15</th>\n",
       "      <td>80</td>\n",
       "      <td>0.7</td>\n",
       "      <td>2.035811</td>\n",
       "    </tr>\n",
       "    <tr>\n",
       "      <th>16</th>\n",
       "      <td>80</td>\n",
       "      <td>1.0</td>\n",
       "      <td>2.113807</td>\n",
       "    </tr>\n",
       "    <tr>\n",
       "      <th>17</th>\n",
       "      <td>90</td>\n",
       "      <td>0.1</td>\n",
       "      <td>2.985055</td>\n",
       "    </tr>\n",
       "    <tr>\n",
       "      <th>18</th>\n",
       "      <td>90</td>\n",
       "      <td>0.4</td>\n",
       "      <td>2.074635</td>\n",
       "    </tr>\n",
       "    <tr>\n",
       "      <th>19</th>\n",
       "      <td>90</td>\n",
       "      <td>0.7</td>\n",
       "      <td>2.034023</td>\n",
       "    </tr>\n",
       "    <tr>\n",
       "      <th>20</th>\n",
       "      <td>90</td>\n",
       "      <td>1.0</td>\n",
       "      <td>2.112332</td>\n",
       "    </tr>\n",
       "    <tr>\n",
       "      <th>21</th>\n",
       "      <td>100</td>\n",
       "      <td>0.1</td>\n",
       "      <td>3.033050</td>\n",
       "    </tr>\n",
       "    <tr>\n",
       "      <th>22</th>\n",
       "      <td>100</td>\n",
       "      <td>0.4</td>\n",
       "      <td>2.074893</td>\n",
       "    </tr>\n",
       "    <tr>\n",
       "      <th>23</th>\n",
       "      <td>100</td>\n",
       "      <td>0.7</td>\n",
       "      <td>2.036020</td>\n",
       "    </tr>\n",
       "    <tr>\n",
       "      <th>24</th>\n",
       "      <td>100</td>\n",
       "      <td>1.0</td>\n",
       "      <td>2.114097</td>\n",
       "    </tr>\n",
       "  </tbody>\n",
       "</table>\n",
       "</div>"
      ],
      "text/plain": [
       "    rank  regParam      rmse\n",
       "1     50       0.1  3.017379\n",
       "2     50       0.4  2.074984\n",
       "3     50       0.7  2.037107\n",
       "4     50       1.0  2.113955\n",
       "5     60       0.1  3.012323\n",
       "6     60       0.4  2.078101\n",
       "7     60       0.7  2.035633\n",
       "8     60       1.0  2.113324\n",
       "9     70       0.1  2.979702\n",
       "10    70       0.4  2.073439\n",
       "11    70       0.7  2.038862\n",
       "12    70       1.0  2.114951\n",
       "13    80       0.1  3.001354\n",
       "14    80       0.4  2.072774\n",
       "15    80       0.7  2.035811\n",
       "16    80       1.0  2.113807\n",
       "17    90       0.1  2.985055\n",
       "18    90       0.4  2.074635\n",
       "19    90       0.7  2.034023\n",
       "20    90       1.0  2.112332\n",
       "21   100       0.1  3.033050\n",
       "22   100       0.4  2.074893\n",
       "23   100       0.7  2.036020\n",
       "24   100       1.0  2.114097"
      ]
     },
     "execution_count": 31,
     "metadata": {},
     "output_type": "execute_result"
    }
   ],
   "source": [
    "df1 = df1.iloc[1:]\n",
    "df1"
   ]
  },
  {
   "cell_type": "code",
   "execution_count": 32,
   "id": "b2791137",
   "metadata": {},
   "outputs": [
    {
     "data": {
      "image/png": "[encoded data removed]",
      "text/plain": [
       "<Figure size 1080x288 with 1 Axes>"
      ]
     },
     "metadata": {},
     "output_type": "display_data"
    }
   ],
   "source": [
    "sns.lineplot(x='regParam', y='rmse', data=df1,\n",
    "            hue='rank')\n",
    "plt.xlabel('Значение параметра регуляризации')\n",
    "plt.ylabel('RMSE')\n",
    "plt.savefig('ALS3.png', transparent=True)\n",
    "plt.show()"
   ]
  },
  {
   "cell_type": "code",
   "execution_count": 33,
   "id": "3f29cb67",
   "metadata": {},
   "outputs": [
    {
     "data": {
      "text/html": [
       "<div>\n",
       "<style scoped>\n",
       "    .dataframe tbody tr th:only-of-type {\n",
       "        vertical-align: middle;\n",
       "    }\n",
       "\n",
       "    .dataframe tbody tr th {\n",
       "        vertical-align: top;\n",
       "    }\n",
       "\n",
       "    .dataframe thead th {\n",
       "        text-align: right;\n",
       "    }\n",
       "</style>\n",
       "<table border=\"1\" class=\"dataframe\">\n",
       "  <thead>\n",
       "    <tr style=\"text-align: right;\">\n",
       "      <th></th>\n",
       "      <th>rank</th>\n",
       "      <th>regParam</th>\n",
       "      <th>rmse</th>\n",
       "    </tr>\n",
       "  </thead>\n",
       "  <tbody>\n",
       "    <tr>\n",
       "      <th>19</th>\n",
       "      <td>90</td>\n",
       "      <td>0.7</td>\n",
       "      <td>2.034023</td>\n",
       "    </tr>\n",
       "  </tbody>\n",
       "</table>\n",
       "</div>"
      ],
      "text/plain": [
       "    rank  regParam      rmse\n",
       "19    90       0.7  2.034023"
      ]
     },
     "execution_count": 33,
     "metadata": {},
     "output_type": "execute_result"
    }
   ],
   "source": [
    "df1[df1['rmse']==df1['rmse'].min()]"
   ]
  },
  {
   "cell_type": "markdown",
   "id": "8df31dfd",
   "metadata": {},
   "source": [
    "Итак, оптимальное значение количества латентных факторов для этого датасета отличается, но значение метрики лучше лишь на 0.002. Вероятно, причина кроется в способе генерации выборки. Она осуществлялась стратифицированно, поэтому новой информации при увеличении датасета не добавилось."
   ]
  },
  {
   "cell_type": "markdown",
   "id": "f8848765",
   "metadata": {},
   "source": [
    "Количество итераций для всех попыток выбрано равным значению по умолчанию в библиотечной реализации ALS (10). Также было опробовано значение 5, но оно давало худшие результаты."
   ]
  },
  {
   "cell_type": "markdown",
   "id": "4f457c39",
   "metadata": {},
   "source": [
    "Пример построения рекомендаций для пользователя 231944:"
   ]
  },
  {
   "cell_type": "code",
   "execution_count": 34,
   "id": "65a0ab15",
   "metadata": {},
   "outputs": [],
   "source": [
    "user = 231944"
   ]
  },
  {
   "cell_type": "code",
   "execution_count": 36,
   "id": "8458cda3",
   "metadata": {},
   "outputs": [],
   "source": [
    "user_subset = spark_train.where(spark_train.user_uid==user)\n",
    "user_subset_recs = model.recommendForUserSubset(user_subset, 10)"
   ]
  },
  {
   "cell_type": "code",
   "execution_count": 43,
   "id": "ff17a4ff",
   "metadata": {},
   "outputs": [
    {
     "data": {
      "text/plain": [
       "[7593, 340, 6574, 6789, 6616, 10076, 5826, 1235, 4533, 8662]"
      ]
     },
     "execution_count": 43,
     "metadata": {},
     "output_type": "execute_result"
    }
   ],
   "source": [
    "recs = user_subset_recs.select('recommendations.element_uid', 'recommendations.rating').first()\n",
    "recs['element_uid']"
   ]
  },
  {
   "cell_type": "code",
   "execution_count": 44,
   "id": "d6e666e0",
   "metadata": {},
   "outputs": [
    {
     "data": {
      "text/plain": [
       "[9.373523712158203,\n",
       " 9.136528968811035,\n",
       " 8.975046157836914,\n",
       " 8.963576316833496,\n",
       " 8.918926239013672,\n",
       " 8.804742813110352,\n",
       " 8.799222946166992,\n",
       " 8.738356590270996,\n",
       " 8.714048385620117,\n",
       " 8.70267391204834]"
      ]
     },
     "execution_count": 44,
     "metadata": {},
     "output_type": "execute_result"
    }
   ],
   "source": [
    "recs['rating']"
   ]
  },
  {
   "cell_type": "code",
   "execution_count": null,
   "id": "6015acac",
   "metadata": {},
   "outputs": [],
   "source": []
  }
 ],
 "metadata": {
  "kernelspec": {
   "display_name": "Python 3 (ipykernel)",
   "language": "python",
   "name": "python3"
  },
  "language_info": {
   "codemirror_mode": {
    "name": "ipython",
    "version": 3
   },
   "file_extension": ".py",
   "mimetype": "text/x-python",
   "name": "python",
   "nbconvert_exporter": "python",
   "pygments_lexer": "ipython3",
   "version": "3.8.10"
  }
 },
 "nbformat": 4,
 "nbformat_minor": 5
}
