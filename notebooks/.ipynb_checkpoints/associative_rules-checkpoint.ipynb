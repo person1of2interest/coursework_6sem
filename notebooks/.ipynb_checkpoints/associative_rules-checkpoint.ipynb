{
 "cells": [
  {
   "cell_type": "markdown",
   "id": "dd3e325d",
   "metadata": {},
   "source": [
    "## Неперсонализированные рекомендации\n",
    "\n",
    "Из разряда \"пользователи, посмотревшие этот фильм, также посмотрели и этот\""
   ]
  },
  {
   "cell_type": "code",
   "execution_count": 47,
   "id": "28037f74",
   "metadata": {},
   "outputs": [],
   "source": [
    "import pandas as pd\n",
    "import os\n",
    "import numpy as np"
   ]
  },
  {
   "cell_type": "code",
   "execution_count": 48,
   "id": "ca4c7f45",
   "metadata": {},
   "outputs": [],
   "source": [
    "DATA_PATH = '../data/'"
   ]
  },
  {
   "cell_type": "code",
   "execution_count": 49,
   "id": "a59f8f60",
   "metadata": {},
   "outputs": [],
   "source": [
    "transactions_main = pd.read_csv(\n",
    "    os.path.join(DATA_PATH, 'transactions.csv'),\n",
    "    dtype={\n",
    "        'element_uid': np.uint16,\n",
    "        'user_uid': np.uint32,\n",
    "        'consumption_mode': 'category',\n",
    "        'ts': np.float64,\n",
    "        'watched_time': np.uint64,\n",
    "        'device_type': np.uint8,\n",
    "        'device_manufacturer': np.uint8\n",
    "    }\n",
    ")"
   ]
  },
  {
   "cell_type": "markdown",
   "id": "229ffce9",
   "metadata": {},
   "source": [
    "Сформировали dataframe из csv-файла \\\n",
    "Если ```transactions.csv``` находится в той же папке, можно просто ```pd.read_csv('transactions.csv', ...)```"
   ]
  },
  {
   "cell_type": "code",
   "execution_count": 50,
   "id": "2ca13d26",
   "metadata": {
    "scrolled": true
   },
   "outputs": [
    {
     "data": {
      "text/html": [
       "<div>\n",
       "<style scoped>\n",
       "    .dataframe tbody tr th:only-of-type {\n",
       "        vertical-align: middle;\n",
       "    }\n",
       "\n",
       "    .dataframe tbody tr th {\n",
       "        vertical-align: top;\n",
       "    }\n",
       "\n",
       "    .dataframe thead th {\n",
       "        text-align: right;\n",
       "    }\n",
       "</style>\n",
       "<table border=\"1\" class=\"dataframe\">\n",
       "  <thead>\n",
       "    <tr style=\"text-align: right;\">\n",
       "      <th></th>\n",
       "      <th>element_uid</th>\n",
       "      <th>user_uid</th>\n",
       "      <th>consumption_mode</th>\n",
       "      <th>ts</th>\n",
       "      <th>watched_time</th>\n",
       "      <th>device_type</th>\n",
       "      <th>device_manufacturer</th>\n",
       "    </tr>\n",
       "  </thead>\n",
       "  <tbody>\n",
       "    <tr>\n",
       "      <th>0</th>\n",
       "      <td>3336</td>\n",
       "      <td>5177</td>\n",
       "      <td>S</td>\n",
       "      <td>4.430518e+07</td>\n",
       "      <td>4282</td>\n",
       "      <td>0</td>\n",
       "      <td>50</td>\n",
       "    </tr>\n",
       "    <tr>\n",
       "      <th>1</th>\n",
       "      <td>481</td>\n",
       "      <td>593316</td>\n",
       "      <td>S</td>\n",
       "      <td>4.430518e+07</td>\n",
       "      <td>2989</td>\n",
       "      <td>0</td>\n",
       "      <td>11</td>\n",
       "    </tr>\n",
       "    <tr>\n",
       "      <th>2</th>\n",
       "      <td>4128</td>\n",
       "      <td>262355</td>\n",
       "      <td>S</td>\n",
       "      <td>4.430518e+07</td>\n",
       "      <td>833</td>\n",
       "      <td>0</td>\n",
       "      <td>50</td>\n",
       "    </tr>\n",
       "    <tr>\n",
       "      <th>3</th>\n",
       "      <td>6272</td>\n",
       "      <td>74296</td>\n",
       "      <td>S</td>\n",
       "      <td>4.430518e+07</td>\n",
       "      <td>2530</td>\n",
       "      <td>0</td>\n",
       "      <td>99</td>\n",
       "    </tr>\n",
       "    <tr>\n",
       "      <th>4</th>\n",
       "      <td>5543</td>\n",
       "      <td>340623</td>\n",
       "      <td>P</td>\n",
       "      <td>4.430518e+07</td>\n",
       "      <td>6282</td>\n",
       "      <td>0</td>\n",
       "      <td>50</td>\n",
       "    </tr>\n",
       "    <tr>\n",
       "      <th>5</th>\n",
       "      <td>236</td>\n",
       "      <td>332814</td>\n",
       "      <td>S</td>\n",
       "      <td>4.430518e+07</td>\n",
       "      <td>3109</td>\n",
       "      <td>0</td>\n",
       "      <td>50</td>\n",
       "    </tr>\n",
       "  </tbody>\n",
       "</table>\n",
       "</div>"
      ],
      "text/plain": [
       "   element_uid  user_uid consumption_mode            ts  watched_time  \\\n",
       "0         3336      5177                S  4.430518e+07          4282   \n",
       "1          481    593316                S  4.430518e+07          2989   \n",
       "2         4128    262355                S  4.430518e+07           833   \n",
       "3         6272     74296                S  4.430518e+07          2530   \n",
       "4         5543    340623                P  4.430518e+07          6282   \n",
       "5          236    332814                S  4.430518e+07          3109   \n",
       "\n",
       "   device_type  device_manufacturer  \n",
       "0            0                   50  \n",
       "1            0                   11  \n",
       "2            0                   50  \n",
       "3            0                   99  \n",
       "4            0                   50  \n",
       "5            0                   50  "
      ]
     },
     "execution_count": 50,
     "metadata": {},
     "output_type": "execute_result"
    }
   ],
   "source": [
    "transactions_main.head(6)"
   ]
  },
  {
   "cell_type": "markdown",
   "id": "4cb330fc",
   "metadata": {},
   "source": [
    "consumption_mode — тип потребления (P — покупка, R — аренда, S — просмотр по подписке) \\\n",
    "ts — время совершения операции \\\n",
    "watched_time — время просмотра в секундах"
   ]
  },
  {
   "cell_type": "markdown",
   "id": "a6245e93",
   "metadata": {},
   "source": [
    "С их сайта (https://promo.okko.tv/pamyatka):\n",
    "    \n",
    "1)Покупка \\\n",
    "(фильм можно пересматривать бесконечное количество раз) \\\n",
    "Российские картины появляются в Okko в течение месяца после показа \\\n",
    "в кинотеатрах, а премьеры ведущих мировых студий — через 2-3 месяца. \n",
    "\n",
    "2)Аренда \\\n",
    "(после начала воспроизведения фильм доступен 48 часов) \\\n",
    "Российский фильм можно взять в аренду через 2 месяца после показа в кино, \\\n",
    "голливудскую премьеру — через 3-4 месяца. \n",
    "\n",
    "3)Подписка \\\n",
    "Мы стараемся, чтобы как можно больше популярных фильмов попадало в подписку, \\\n",
    "ведь за их просмотр не нужно платить отдельно. \\\n",
    "Приобретая пакет подписок, вы получаете неограниченный доступ к тысячам фильмов и сериалов. "
   ]
  },
  {
   "cell_type": "code",
   "execution_count": 51,
   "id": "b7fa9dba",
   "metadata": {},
   "outputs": [],
   "source": [
    "def generate_transactions(data) -> dict:\n",
    "    transactions = dict()\n",
    "    \n",
    "    for _, trans_item in data.iterrows():\n",
    "        user_id = trans_item['user_uid']\n",
    "        \n",
    "        if user_id not in transactions:\n",
    "            transactions[user_id] = []\n",
    "        \n",
    "        transactions[user_id].append(trans_item['element_uid'])\n",
    "        #то есть пока не учитываем тип потребления\n",
    "    \n",
    "    return transactions"
   ]
  },
  {
   "cell_type": "code",
   "execution_count": 78,
   "id": "f4ff1f51",
   "metadata": {},
   "outputs": [],
   "source": [
    "#вырежем первые 30000 строк для тестирования\n",
    "transactions = transactions_main.iloc[:30000]"
   ]
  },
  {
   "cell_type": "code",
   "execution_count": 55,
   "id": "54c5ce02",
   "metadata": {},
   "outputs": [],
   "source": [
    "transactions_dict = generate_transactions(transactions)"
   ]
  },
  {
   "cell_type": "code",
   "execution_count": 56,
   "id": "4d93bb7f",
   "metadata": {},
   "outputs": [],
   "source": [
    "from collections import defaultdict\n",
    "\n",
    "def calculate_itemsets_one(transactions_dict: dict, min_sup=0.005) -> dict:\n",
    "    N = len(transactions_dict)\n",
    "    temp_dict = defaultdict(int)\n",
    "    one_itemsets = {}\n",
    "    \n",
    "    for key, items in transactions_dict.items():\n",
    "        for item in items:\n",
    "            inx = frozenset({item}) \n",
    "            temp_dict[inx] += 1\n",
    "\n",
    "    # remove all items that is not supported.\n",
    "    for key, itemset in temp_dict.items():\n",
    "        if itemset > min_sup * N:\n",
    "            one_itemsets[key] = itemset\n",
    "    \n",
    "    return one_itemsets"
   ]
  },
  {
   "cell_type": "code",
   "execution_count": 57,
   "id": "1159ee3d",
   "metadata": {},
   "outputs": [],
   "source": [
    "one_itemsets = calculate_itemsets_one(transactions_dict)"
   ]
  },
  {
   "cell_type": "code",
   "execution_count": 58,
   "id": "26f9ea53",
   "metadata": {},
   "outputs": [],
   "source": [
    "def has_support(items: list, one_itemsets: dict) -> bool:\n",
    "    return ((frozenset({items[0]}) in one_itemsets) and (frozenset({items[1]}) in one_itemsets))"
   ]
  },
  {
   "cell_type": "code",
   "execution_count": 59,
   "id": "ebe5c701",
   "metadata": {},
   "outputs": [],
   "source": [
    "from itertools import combinations\n",
    "\n",
    "def calculate_itemsets_two(transactions_dict: dict, one_itemsets: dict) -> dict:\n",
    "    two_itemsets = defaultdict(int)\n",
    "    \n",
    "    for key, items in transactions_dict.items():\n",
    "        items = list(set(items)) #remove duplications\n",
    "        \n",
    "        if (len(items) > 2):\n",
    "            for perm in combinations(items, 2):\n",
    "                if has_support(perm, one_itemsets):\n",
    "                    two_itemsets[frozenset(perm)] += 1\n",
    "        elif len(items) == 2:\n",
    "            if has_support(items, one_itemsets):\n",
    "                two_itemsets[frozenset(items)] += 1\n",
    "\n",
    "    return two_itemsets"
   ]
  },
  {
   "cell_type": "code",
   "execution_count": 60,
   "id": "d9845be4",
   "metadata": {},
   "outputs": [],
   "source": [
    "two_itemsets = calculate_itemsets_two(transactions_dict, one_itemsets)"
   ]
  },
  {
   "cell_type": "code",
   "execution_count": 61,
   "id": "dbd5619c",
   "metadata": {},
   "outputs": [],
   "source": [
    "def calculate_association_rules(one_itemsets: dict, two_itemsets: dict, N: int) -> list:\n",
    "    rules = []\n",
    "\n",
    "    for source, source_freq in one_itemsets.items():\n",
    "        for key, group_freq in two_itemsets.items():\n",
    "            if source.issubset(key):\n",
    "                target = key.difference(source)\n",
    "                support = group_freq / N\n",
    "                confidence = group_freq / source_freq\n",
    "                rules.append((next(iter(source)), next(iter(target)), confidence, support))\n",
    "    \n",
    "    return rules"
   ]
  },
  {
   "cell_type": "code",
   "execution_count": 62,
   "id": "6ea79a03",
   "metadata": {},
   "outputs": [],
   "source": [
    "rules = calculate_association_rules(one_itemsets, two_itemsets, len(transactions_dict))"
   ]
  },
  {
   "cell_type": "code",
   "execution_count": 63,
   "id": "f53025fd",
   "metadata": {
    "scrolled": true
   },
   "outputs": [
    {
     "data": {
      "text/plain": [
       "[(51, 72, 0.05384615384615385, 0.0003752948745442848),\n",
       " (51, 3567, 0.046153846153846156, 0.0003216813210379584),\n",
       " (51, 2245, 0.015384615384615385, 0.0001072271070126528),\n",
       " (51, 2694, 0.015384615384615385, 0.0001072271070126528),\n",
       " (51, 4366, 0.015384615384615385, 0.0001072271070126528),\n",
       " (51, 2327, 0.007692307692307693, 5.36135535063264e-05)]"
      ]
     },
     "execution_count": 63,
     "metadata": {},
     "output_type": "execute_result"
    }
   ],
   "source": [
    "rules_1 = sorted(sorted(rules)[:8], key = lambda l : l[2], reverse = True)\n",
    "rules_1[:6]"
   ]
  },
  {
   "cell_type": "code",
   "execution_count": 64,
   "id": "a9adea0a",
   "metadata": {},
   "outputs": [],
   "source": [
    "#пример применения для пользователя 240316 из transactions_dict (словарь для первых 30000 строк)\n",
    "recs_list = []\n",
    "\n",
    "for rule in rules:\n",
    "    for element_id in transactions_dict[240316]:\n",
    "        if rule[0] == element_id:\n",
    "            recs_list.append(rule)\n",
    "\n",
    "recs_list = sorted(recs_list, key = lambda l : l[2], reverse = True)"
   ]
  },
  {
   "cell_type": "code",
   "execution_count": 65,
   "id": "d731a484",
   "metadata": {
    "scrolled": true
   },
   "outputs": [
    {
     "data": {
      "text/plain": [
       "[(9661, 9341, 0.07717041800643087, 0.0025734505683036673),\n",
       " (2694, 9341, 0.0748502994011976, 0.00134033883765816),\n",
       " (2694, 9661, 0.0688622754491018, 0.0012331117306455073),\n",
       " (2694, 8739, 0.04491017964071856, 0.0008042033025948959),\n",
       " (9661, 4548, 0.03858520900321544, 0.0012867252841518336),\n",
       " (9661, 2694, 0.03697749196141479, 0.0012331117306455073)]"
      ]
     },
     "execution_count": 65,
     "metadata": {},
     "output_type": "execute_result"
    }
   ],
   "source": [
    "recs_list[:6]"
   ]
  },
  {
   "cell_type": "code",
   "execution_count": 67,
   "id": "c96638f8",
   "metadata": {},
   "outputs": [],
   "source": [
    "#удаляем дубликаты, пересчитывая поддержку как среднее арифметическое\n",
    "#поддержок всех рекомендаций соответствующего элемента\n",
    "recs_dict = {}\n",
    "\n",
    "for rec in recs_list:\n",
    "    if rec[1] not in recs_dict:\n",
    "        recs_dict[rec[1]] = [rec[2], 1]\n",
    "    else:\n",
    "        (recs_dict[rec[1]])[0] += rec[2]\n",
    "        (recs_dict[rec[1]])[1] += 1\n",
    "\n",
    "recs_list_final = []\n",
    "        \n",
    "for key, item in recs_dict.items():\n",
    "    recs_list_final.append((key, item[0]/item[1]))\n",
    "    \n",
    "recs_list_final = sorted(recs_list_final, key = lambda t : t[1], reverse = True)"
   ]
  },
  {
   "cell_type": "code",
   "execution_count": 68,
   "id": "3cd72074",
   "metadata": {
    "scrolled": true
   },
   "outputs": [
    {
     "data": {
      "text/plain": [
       "[(9341, 0.07601035870381423),\n",
       " (9661, 0.0688622754491018),\n",
       " (2694, 0.03697749196141479),\n",
       " (8739, 0.034512967633864106),\n",
       " (4548, 0.023783622465679576),\n",
       " (4366, 0.020014633113194832)]"
      ]
     },
     "execution_count": 68,
     "metadata": {},
     "output_type": "execute_result"
    }
   ],
   "source": [
    "recs_list_final[:6]"
   ]
  },
  {
   "cell_type": "code",
   "execution_count": 69,
   "id": "1e9f67e0",
   "metadata": {},
   "outputs": [
    {
     "name": "stdout",
     "output_type": "stream",
     "text": [
      "{\"240316\": [9341, 9661, 2694, 8739, 4548, 4366, 6955, 9311, 603, 9817]}\n"
     ]
    }
   ],
   "source": [
    "import json\n",
    "\n",
    "#рекомендации для группы пользователей можно будет записывать в файл \n",
    "#вместо вывода на экран\n",
    "print(json.dumps({240316: [t[0] for t in recs_list_final][:10]}))"
   ]
  },
  {
   "cell_type": "code",
   "execution_count": 79,
   "id": "469fd13e",
   "metadata": {},
   "outputs": [],
   "source": [
    "movies_rec = set()\n",
    "\n",
    "def make_rec_list(user):\n",
    "\n",
    "    recs_list = []\n",
    "\n",
    "    for rule in rules:\n",
    "        for element_id in transactions_dict[user]:\n",
    "            if rule[0] == element_id:\n",
    "                recs_list.append(rule)\n",
    "\n",
    "    recs_list = sorted(recs_list, key = lambda l : l[2], reverse = True)\n",
    "    \n",
    "    #удаляем дубликаты, пересчитывая поддержку как среднее арифметическое\n",
    "    #поддержок всех рекомендаций соответствующего элемента\n",
    "    recs_dict = {}\n",
    "\n",
    "    for rec in recs_list:\n",
    "        if rec[1] not in recs_dict:\n",
    "            recs_dict[rec[1]] = [rec[2], 1]\n",
    "        else:\n",
    "            (recs_dict[rec[1]])[0] += rec[2]\n",
    "            (recs_dict[rec[1]])[1] += 1\n",
    "\n",
    "    recs_list_final = []\n",
    "        \n",
    "    for key, item in recs_dict.items():\n",
    "        recs_list_final.append((key, item[0]/item[1]))\n",
    "    \n",
    "    recs_list_final = sorted(recs_list_final, key = lambda t : t[1], reverse = True)\n",
    "    ans = [t[0] for t in recs_list_final][:10]\n",
    "    \n",
    "    return set(ans)\n",
    "\n",
    "for user in transactions_dict.keys():\n",
    "    movies_rec |= make_rec_list(user)"
   ]
  },
  {
   "cell_type": "code",
   "execution_count": 80,
   "id": "c4c6c7d3",
   "metadata": {},
   "outputs": [
    {
     "data": {
      "text/plain": [
       "0.006649850951616602"
      ]
     },
     "execution_count": 80,
     "metadata": {},
     "output_type": "execute_result"
    }
   ],
   "source": [
    "len(movies_rec) / len(transactions['element_uid'].unique())"
   ]
  },
  {
   "cell_type": "code",
   "execution_count": 81,
   "id": "9ef791c7",
   "metadata": {},
   "outputs": [
    {
     "data": {
      "text/html": [
       "<div>\n",
       "<style scoped>\n",
       "    .dataframe tbody tr th:only-of-type {\n",
       "        vertical-align: middle;\n",
       "    }\n",
       "\n",
       "    .dataframe tbody tr th {\n",
       "        vertical-align: top;\n",
       "    }\n",
       "\n",
       "    .dataframe thead th {\n",
       "        text-align: right;\n",
       "    }\n",
       "</style>\n",
       "<table border=\"1\" class=\"dataframe\">\n",
       "  <thead>\n",
       "    <tr style=\"text-align: right;\">\n",
       "      <th></th>\n",
       "      <th>element_uid</th>\n",
       "      <th>user_uid</th>\n",
       "      <th>consumption_mode</th>\n",
       "      <th>ts</th>\n",
       "      <th>watched_time</th>\n",
       "      <th>device_type</th>\n",
       "      <th>device_manufacturer</th>\n",
       "    </tr>\n",
       "  </thead>\n",
       "  <tbody>\n",
       "    <tr>\n",
       "      <th>0</th>\n",
       "      <td>3336</td>\n",
       "      <td>5177</td>\n",
       "      <td>S</td>\n",
       "      <td>4.430518e+07</td>\n",
       "      <td>4282</td>\n",
       "      <td>0</td>\n",
       "      <td>50</td>\n",
       "    </tr>\n",
       "    <tr>\n",
       "      <th>1</th>\n",
       "      <td>481</td>\n",
       "      <td>593316</td>\n",
       "      <td>S</td>\n",
       "      <td>4.430518e+07</td>\n",
       "      <td>2989</td>\n",
       "      <td>0</td>\n",
       "      <td>11</td>\n",
       "    </tr>\n",
       "    <tr>\n",
       "      <th>2</th>\n",
       "      <td>4128</td>\n",
       "      <td>262355</td>\n",
       "      <td>S</td>\n",
       "      <td>4.430518e+07</td>\n",
       "      <td>833</td>\n",
       "      <td>0</td>\n",
       "      <td>50</td>\n",
       "    </tr>\n",
       "    <tr>\n",
       "      <th>3</th>\n",
       "      <td>6272</td>\n",
       "      <td>74296</td>\n",
       "      <td>S</td>\n",
       "      <td>4.430518e+07</td>\n",
       "      <td>2530</td>\n",
       "      <td>0</td>\n",
       "      <td>99</td>\n",
       "    </tr>\n",
       "    <tr>\n",
       "      <th>4</th>\n",
       "      <td>5543</td>\n",
       "      <td>340623</td>\n",
       "      <td>P</td>\n",
       "      <td>4.430518e+07</td>\n",
       "      <td>6282</td>\n",
       "      <td>0</td>\n",
       "      <td>50</td>\n",
       "    </tr>\n",
       "    <tr>\n",
       "      <th>...</th>\n",
       "      <td>...</td>\n",
       "      <td>...</td>\n",
       "      <td>...</td>\n",
       "      <td>...</td>\n",
       "      <td>...</td>\n",
       "      <td>...</td>\n",
       "      <td>...</td>\n",
       "    </tr>\n",
       "    <tr>\n",
       "      <th>9643007</th>\n",
       "      <td>2252</td>\n",
       "      <td>180823</td>\n",
       "      <td>S</td>\n",
       "      <td>4.173063e+07</td>\n",
       "      <td>2503</td>\n",
       "      <td>0</td>\n",
       "      <td>11</td>\n",
       "    </tr>\n",
       "    <tr>\n",
       "      <th>9643008</th>\n",
       "      <td>8436</td>\n",
       "      <td>458827</td>\n",
       "      <td>S</td>\n",
       "      <td>4.173063e+07</td>\n",
       "      <td>8360</td>\n",
       "      <td>0</td>\n",
       "      <td>50</td>\n",
       "    </tr>\n",
       "    <tr>\n",
       "      <th>9643009</th>\n",
       "      <td>8888</td>\n",
       "      <td>50431</td>\n",
       "      <td>S</td>\n",
       "      <td>4.173063e+07</td>\n",
       "      <td>5763</td>\n",
       "      <td>0</td>\n",
       "      <td>11</td>\n",
       "    </tr>\n",
       "    <tr>\n",
       "      <th>9643010</th>\n",
       "      <td>6099</td>\n",
       "      <td>59148</td>\n",
       "      <td>S</td>\n",
       "      <td>4.173063e+07</td>\n",
       "      <td>6831</td>\n",
       "      <td>0</td>\n",
       "      <td>50</td>\n",
       "    </tr>\n",
       "    <tr>\n",
       "      <th>9643011</th>\n",
       "      <td>6189</td>\n",
       "      <td>283774</td>\n",
       "      <td>S</td>\n",
       "      <td>4.173063e+07</td>\n",
       "      <td>19586</td>\n",
       "      <td>0</td>\n",
       "      <td>11</td>\n",
       "    </tr>\n",
       "  </tbody>\n",
       "</table>\n",
       "<p>9643012 rows × 7 columns</p>\n",
       "</div>"
      ],
      "text/plain": [
       "         element_uid  user_uid consumption_mode            ts  watched_time  \\\n",
       "0               3336      5177                S  4.430518e+07          4282   \n",
       "1                481    593316                S  4.430518e+07          2989   \n",
       "2               4128    262355                S  4.430518e+07           833   \n",
       "3               6272     74296                S  4.430518e+07          2530   \n",
       "4               5543    340623                P  4.430518e+07          6282   \n",
       "...              ...       ...              ...           ...           ...   \n",
       "9643007         2252    180823                S  4.173063e+07          2503   \n",
       "9643008         8436    458827                S  4.173063e+07          8360   \n",
       "9643009         8888     50431                S  4.173063e+07          5763   \n",
       "9643010         6099     59148                S  4.173063e+07          6831   \n",
       "9643011         6189    283774                S  4.173063e+07         19586   \n",
       "\n",
       "         device_type  device_manufacturer  \n",
       "0                  0                   50  \n",
       "1                  0                   11  \n",
       "2                  0                   50  \n",
       "3                  0                   99  \n",
       "4                  0                   50  \n",
       "...              ...                  ...  \n",
       "9643007            0                   11  \n",
       "9643008            0                   50  \n",
       "9643009            0                   11  \n",
       "9643010            0                   50  \n",
       "9643011            0                   11  \n",
       "\n",
       "[9643012 rows x 7 columns]"
      ]
     },
     "execution_count": 81,
     "metadata": {},
     "output_type": "execute_result"
    }
   ],
   "source": [
    "transactions_main"
   ]
  },
  {
   "cell_type": "code",
   "execution_count": null,
   "id": "1ac1f1c1",
   "metadata": {},
   "outputs": [],
   "source": []
  }
 ],
 "metadata": {
  "kernelspec": {
   "display_name": "Python 3 (ipykernel)",
   "language": "python",
   "name": "python3"
  },
  "language_info": {
   "codemirror_mode": {
    "name": "ipython",
    "version": 3
   },
   "file_extension": ".py",
   "mimetype": "text/x-python",
   "name": "python",
   "nbconvert_exporter": "python",
   "pygments_lexer": "ipython3",
   "version": "3.8.10"
  }
 },
 "nbformat": 4,
 "nbformat_minor": 5
}
