{
 "cells": [
  {
   "cell_type": "markdown",
   "id": "492b898a",
   "metadata": {},
   "source": [
    "### Этот файл посвящён изучению алгоритма коллаборативной фильтрации"
   ]
  },
  {
   "cell_type": "code",
   "execution_count": 1,
   "id": "27f48da6",
   "metadata": {},
   "outputs": [],
   "source": [
    "import sys \n",
    "sys.path.append('../code/')\n",
    "from collaborative_filtering import normalize, get_coo_matrix, get_cor_matrix\n",
    "from collaborative_filtering import predict_rating, predict"
   ]
  },
  {
   "cell_type": "code",
   "execution_count": 2,
   "id": "48886460",
   "metadata": {},
   "outputs": [],
   "source": [
    "import pandas as pd\n",
    "import os\n",
    "import numpy as np\n",
    "\n",
    "DATA_PATH = '../data/'\n",
    "\n",
    "ratings_main = pd.read_csv(\n",
    "    os.path.join(DATA_PATH, 'ratings.csv'),\n",
    "    dtype={\n",
    "        'user_uid': np.uint32,\n",
    "        'element_uid': np.uint16,\n",
    "        'rating': np.uint8,\n",
    "        'ts': np.float64,\n",
    "    }\n",
    ")"
   ]
  },
  {
   "cell_type": "code",
   "execution_count": 3,
   "id": "68f39add",
   "metadata": {},
   "outputs": [
    {
     "data": {
      "text/html": [
       "<div>\n",
       "<style scoped>\n",
       "    .dataframe tbody tr th:only-of-type {\n",
       "        vertical-align: middle;\n",
       "    }\n",
       "\n",
       "    .dataframe tbody tr th {\n",
       "        vertical-align: top;\n",
       "    }\n",
       "\n",
       "    .dataframe thead th {\n",
       "        text-align: right;\n",
       "    }\n",
       "</style>\n",
       "<table border=\"1\" class=\"dataframe\">\n",
       "  <thead>\n",
       "    <tr style=\"text-align: right;\">\n",
       "      <th></th>\n",
       "      <th>user_uid</th>\n",
       "      <th>element_uid</th>\n",
       "      <th>rating</th>\n",
       "      <th>ts</th>\n",
       "    </tr>\n",
       "  </thead>\n",
       "  <tbody>\n",
       "    <tr>\n",
       "      <th>0</th>\n",
       "      <td>571252</td>\n",
       "      <td>1364</td>\n",
       "      <td>10</td>\n",
       "      <td>4.430517e+07</td>\n",
       "    </tr>\n",
       "    <tr>\n",
       "      <th>1</th>\n",
       "      <td>63140</td>\n",
       "      <td>3037</td>\n",
       "      <td>10</td>\n",
       "      <td>4.430514e+07</td>\n",
       "    </tr>\n",
       "    <tr>\n",
       "      <th>2</th>\n",
       "      <td>443817</td>\n",
       "      <td>4363</td>\n",
       "      <td>8</td>\n",
       "      <td>4.430514e+07</td>\n",
       "    </tr>\n",
       "    <tr>\n",
       "      <th>3</th>\n",
       "      <td>359870</td>\n",
       "      <td>1364</td>\n",
       "      <td>10</td>\n",
       "      <td>4.430506e+07</td>\n",
       "    </tr>\n",
       "    <tr>\n",
       "      <th>4</th>\n",
       "      <td>359870</td>\n",
       "      <td>3578</td>\n",
       "      <td>9</td>\n",
       "      <td>4.430506e+07</td>\n",
       "    </tr>\n",
       "    <tr>\n",
       "      <th>5</th>\n",
       "      <td>557663</td>\n",
       "      <td>1918</td>\n",
       "      <td>10</td>\n",
       "      <td>4.430505e+07</td>\n",
       "    </tr>\n",
       "  </tbody>\n",
       "</table>\n",
       "</div>"
      ],
      "text/plain": [
       "   user_uid  element_uid  rating            ts\n",
       "0    571252         1364      10  4.430517e+07\n",
       "1     63140         3037      10  4.430514e+07\n",
       "2    443817         4363       8  4.430514e+07\n",
       "3    359870         1364      10  4.430506e+07\n",
       "4    359870         3578       9  4.430506e+07\n",
       "5    557663         1918      10  4.430505e+07"
      ]
     },
     "execution_count": 3,
     "metadata": {},
     "output_type": "execute_result"
    }
   ],
   "source": [
    "ratings_main.head(6)"
   ]
  },
  {
   "cell_type": "code",
   "execution_count": 4,
   "id": "5556e054",
   "metadata": {},
   "outputs": [],
   "source": [
    "from sklearn.model_selection import StratifiedShuffleSplit"
   ]
  },
  {
   "cell_type": "code",
   "execution_count": 5,
   "id": "12b46500",
   "metadata": {},
   "outputs": [
    {
     "name": "stdout",
     "output_type": "stream",
     "text": [
      "CPU times: user 866 ms, sys: 20.2 ms, total: 886 ms\n",
      "Wall time: 883 ms\n"
     ]
    }
   ],
   "source": [
    "%%time\n",
    "\n",
    "# удаляю из списка фильмов фильмы с одной единственной оценкой на весь датасет\n",
    "data = ratings_main.groupby('element_uid').agg({'element_uid': ['count']})\n",
    "ind = set(data[data['element_uid']['count'] > 2].index)\n",
    "grouped = ratings_main.groupby('element_uid')\n",
    "ratings_main = grouped.filter(lambda x: set(x['element_uid']).issubset(ind))\n",
    "\n",
    "# удаляю строки с оценкой фильма 0 (используется шкала от 1 до 10, поэтому это мусор)\n",
    "ratings_main.drop(labels=ratings_main.groupby('rating').get_group(0).index, \n",
    "                  inplace=True)\n",
    "\n",
    "# отбираю 30_000 строк для обучения \n",
    "# с помощью стратифицированной по элементам выборки\n",
    "sss = StratifiedShuffleSplit(n_splits=1, train_size=30_000, random_state=0)\n",
    "for _, (train_index, _) in enumerate(sss.split(ratings_main, ratings_main['element_uid'])):\n",
    "    ratings_ds = ratings_main.iloc[train_index].copy()"
   ]
  },
  {
   "cell_type": "code",
   "execution_count": 6,
   "id": "424c84ab",
   "metadata": {},
   "outputs": [
    {
     "name": "stdout",
     "output_type": "stream",
     "text": [
      "CPU times: user 19.3 s, sys: 1.18 s, total: 20.4 s\n",
      "Wall time: 20.3 s\n"
     ]
    }
   ],
   "source": [
    "%%time\n",
    "\n",
    "# пример составления рекомендаций для пользователя \n",
    "user = 24124\n",
    "predicted_dict = predict(user, ratings_ds)"
   ]
  },
  {
   "cell_type": "code",
   "execution_count": 7,
   "id": "a93a9287",
   "metadata": {},
   "outputs": [
    {
     "name": "stdout",
     "output_type": "stream",
     "text": [
      "[9775, 8895, 8523, 8268, 8233, 6290, 6272, 5982, 5933, 5885]\n"
     ]
    }
   ],
   "source": [
    "print(sorted(predicted_dict, reverse=True)[:10])"
   ]
  },
  {
   "cell_type": "code",
   "execution_count": 31,
   "id": "73c24959",
   "metadata": {},
   "outputs": [
    {
     "data": {
      "text/plain": [
       "{4939: 0.0,\n",
       " 5885: 0.0,\n",
       " 8268: 0.0,\n",
       " 245: 0.0,\n",
       " 1422: 0.0,\n",
       " 4760: 0.0,\n",
       " 8895: 0.0,\n",
       " 113: 0.0,\n",
       " 5208: 0.0,\n",
       " 9775: 0.0,\n",
       " 1842: 0.0,\n",
       " 8233: 0.0,\n",
       " 6290: 0.0,\n",
       " 4732: 0.0,\n",
       " 5982: 0.0,\n",
       " 5215: 0.0,\n",
       " 8523: 0.0,\n",
       " 944: 7.65,\n",
       " 5933: 0.0,\n",
       " 6272: 7.65}"
      ]
     },
     "execution_count": 31,
     "metadata": {},
     "output_type": "execute_result"
    }
   ],
   "source": [
    "predicted_dict"
   ]
  },
  {
   "cell_type": "markdown",
   "id": "2ac69c70",
   "metadata": {},
   "source": [
    "На предварительные действия с датасетом в среднем уходит меньше секунды, на непосредственную генерацию рекомендаций для пользователя --- около 20-ти секунд."
   ]
  },
  {
   "cell_type": "markdown",
   "id": "eaec3ff4",
   "metadata": {},
   "source": [
    "Понятно, что модель, выдающую нули в качестве прогнозов, нельзя назвать точной. Однако всё же интересно, насколько хорошо наша модель справляется с задачей в терминах значений метрики. Для этого построим прогнозы для элементов, уже оценённых пользователями, но не попавших в наши выборку, и посчитаем RMSE:"
   ]
  },
  {
   "cell_type": "code",
   "execution_count": 71,
   "id": "3715e76b",
   "metadata": {},
   "outputs": [],
   "source": [
    "from sklearn.metrics import mean_squared_error as mse"
   ]
  },
  {
   "cell_type": "code",
   "execution_count": 54,
   "id": "8aa96244",
   "metadata": {},
   "outputs": [
    {
     "data": {
      "text/plain": [
       "[24124, 83691, 107891, 110138, 124821, 247177, 278352, 334052, 412991, 453355]"
      ]
     },
     "execution_count": 54,
     "metadata": {},
     "output_type": "execute_result"
    }
   ],
   "source": [
    "a = ratings_ds.groupby(by='user_uid').count()\n",
    "users = list(a[a['rating']>30].index) # выбираем пользователей, которые поставили больше 30-ти оценок\n",
    "users"
   ]
  },
  {
   "cell_type": "code",
   "execution_count": 60,
   "id": "492716ca",
   "metadata": {},
   "outputs": [],
   "source": [
    "def calc_rmse(user, ratings_ds, ratings_main, coo, cor):\n",
    "    elem_train = set(ratings_ds[ratings_ds['user_uid']==user]['element_uid'])\n",
    "    elem_test = set(ratings_main[ratings_main['user_uid']==user]['element_uid'])\n",
    "    elem_test -= elem_train # убираем элементы из тренировочной выборки\n",
    "    elem_test &= set(ratings_ds['element_uid']) # убираем не попавшие в датасет на 30_000 строк\n",
    "    \n",
    "    elem_train = list(elem_train)\n",
    "    elem_test = list(elem_test)\n",
    "    \n",
    "    predicted_ratings = {}\n",
    "    \n",
    "    for elem in elem_test:\n",
    "        r = predict_rating(user, elem, ratings_ds, coo, cor)\n",
    "        predicted_ratings[elem] = round(r, 2)\n",
    "        \n",
    "    ratings_true = ratings_main.iloc[elem_test]['rating']\n",
    "    ratings_pred = list(predicted_ratings.values())\n",
    "    \n",
    "    return round(mse(ratings_true, ratings_pred, squared=False), 2)"
   ]
  },
  {
   "cell_type": "code",
   "execution_count": 61,
   "id": "4dfe3009",
   "metadata": {},
   "outputs": [],
   "source": [
    "coo = get_coo_matrix(ratings_ds)\n",
    "cor = get_cor_matrix(ratings_ds)"
   ]
  },
  {
   "cell_type": "code",
   "execution_count": 62,
   "id": "edf95685",
   "metadata": {},
   "outputs": [],
   "source": [
    "arr_rmse=[]"
   ]
  },
  {
   "cell_type": "code",
   "execution_count": 63,
   "id": "66faa0fe",
   "metadata": {},
   "outputs": [],
   "source": [
    "for user in users:\n",
    "    arr_rmse.append(calc_rmse(user, ratings_ds, ratings_main, coo, cor))"
   ]
  },
  {
   "cell_type": "code",
   "execution_count": 70,
   "id": "bcce6500",
   "metadata": {},
   "outputs": [
    {
     "name": "stdout",
     "output_type": "stream",
     "text": [
      "Среднее значение RMSE для пользователей, поставивиших более 30-ти оценок: 6.97\n"
     ]
    }
   ],
   "source": [
    "print('Среднее значение RMSE для пользователей, поставивиших более 30-ти оценок:', round(np.mean(arr_rmse), 2))"
   ]
  },
  {
   "cell_type": "code",
   "execution_count": 16,
   "id": "2f0435de",
   "metadata": {},
   "outputs": [],
   "source": [
    "%matplotlib inline\n",
    "import matplotlib.pyplot as plt\n",
    "import seaborn as sns"
   ]
  },
  {
   "cell_type": "code",
   "execution_count": 38,
   "id": "9cc7e457",
   "metadata": {},
   "outputs": [],
   "source": [
    "data1 = ratings_ds.groupby('element_uid').agg({'element_uid': ['count']})"
   ]
  },
  {
   "cell_type": "code",
   "execution_count": 45,
   "id": "e5349961",
   "metadata": {
    "scrolled": true
   },
   "outputs": [
    {
     "data": {
      "image/png": "[encoded data removed]",
      "text/plain": [
       "<Figure size 432x288 with 1 Axes>"
      ]
     },
     "metadata": {
      "needs_background": "light"
     },
     "output_type": "display_data"
    }
   ],
   "source": [
    "sns.histplot(x=list(data1['element_uid']['count']), element=\"poly\", log_scale=True)\n",
    "plt.xlabel('Количество оценок') \n",
    "plt.ylabel('Количество фильмов') \n",
    "plt.title('Распределение фильмов по количеству оценок')\n",
    "plt.savefig('cf.png', \n",
    "            transparent=True, \n",
    "            bbox_inches='tight')\n",
    "plt.show()"
   ]
  },
  {
   "cell_type": "code",
   "execution_count": 40,
   "id": "7d9d7c78",
   "metadata": {},
   "outputs": [
    {
     "data": {
      "text/html": [
       "<div>\n",
       "<style scoped>\n",
       "    .dataframe tbody tr th:only-of-type {\n",
       "        vertical-align: middle;\n",
       "    }\n",
       "\n",
       "    .dataframe tbody tr th {\n",
       "        vertical-align: top;\n",
       "    }\n",
       "\n",
       "    .dataframe thead tr th {\n",
       "        text-align: left;\n",
       "    }\n",
       "\n",
       "    .dataframe thead tr:last-of-type th {\n",
       "        text-align: right;\n",
       "    }\n",
       "</style>\n",
       "<table border=\"1\" class=\"dataframe\">\n",
       "  <thead>\n",
       "    <tr>\n",
       "      <th></th>\n",
       "      <th>element_uid</th>\n",
       "    </tr>\n",
       "    <tr>\n",
       "      <th></th>\n",
       "      <th>count</th>\n",
       "    </tr>\n",
       "    <tr>\n",
       "      <th>element_uid</th>\n",
       "      <th></th>\n",
       "    </tr>\n",
       "  </thead>\n",
       "  <tbody>\n",
       "    <tr>\n",
       "      <th>3</th>\n",
       "      <td>2</td>\n",
       "    </tr>\n",
       "    <tr>\n",
       "      <th>6</th>\n",
       "      <td>1</td>\n",
       "    </tr>\n",
       "    <tr>\n",
       "      <th>7</th>\n",
       "      <td>1</td>\n",
       "    </tr>\n",
       "    <tr>\n",
       "      <th>15</th>\n",
       "      <td>4</td>\n",
       "    </tr>\n",
       "    <tr>\n",
       "      <th>18</th>\n",
       "      <td>1</td>\n",
       "    </tr>\n",
       "    <tr>\n",
       "      <th>...</th>\n",
       "      <td>...</td>\n",
       "    </tr>\n",
       "    <tr>\n",
       "      <th>10173</th>\n",
       "      <td>6</td>\n",
       "    </tr>\n",
       "    <tr>\n",
       "      <th>10178</th>\n",
       "      <td>2</td>\n",
       "    </tr>\n",
       "    <tr>\n",
       "      <th>10180</th>\n",
       "      <td>1</td>\n",
       "    </tr>\n",
       "    <tr>\n",
       "      <th>10184</th>\n",
       "      <td>2</td>\n",
       "    </tr>\n",
       "    <tr>\n",
       "      <th>10185</th>\n",
       "      <td>11</td>\n",
       "    </tr>\n",
       "  </tbody>\n",
       "</table>\n",
       "<p>4163 rows × 1 columns</p>\n",
       "</div>"
      ],
      "text/plain": [
       "            element_uid\n",
       "                  count\n",
       "element_uid            \n",
       "3                     2\n",
       "6                     1\n",
       "7                     1\n",
       "15                    4\n",
       "18                    1\n",
       "...                 ...\n",
       "10173                 6\n",
       "10178                 2\n",
       "10180                 1\n",
       "10184                 2\n",
       "10185                11\n",
       "\n",
       "[4163 rows x 1 columns]"
      ]
     },
     "execution_count": 40,
     "metadata": {},
     "output_type": "execute_result"
    }
   ],
   "source": [
    "data1"
   ]
  },
  {
   "cell_type": "code",
   "execution_count": 49,
   "id": "b8c3f746",
   "metadata": {},
   "outputs": [
    {
     "data": {
      "text/plain": [
       "2355"
      ]
     },
     "execution_count": 49,
     "metadata": {},
     "output_type": "execute_result"
    }
   ],
   "source": [
    "sum(data1['element_uid']['count']<3)"
   ]
  },
  {
   "cell_type": "code",
   "execution_count": 43,
   "id": "ec0775c6",
   "metadata": {},
   "outputs": [
    {
     "data": {
      "text/plain": [
       "7.20634158059092"
      ]
     },
     "execution_count": 43,
     "metadata": {},
     "output_type": "execute_result"
    }
   ],
   "source": [
    "data1['element_uid']['count'].mean()"
   ]
  },
  {
   "cell_type": "code",
   "execution_count": 44,
   "id": "2144751c",
   "metadata": {},
   "outputs": [
    {
     "data": {
      "text/plain": [
       "4163"
      ]
     },
     "execution_count": 44,
     "metadata": {},
     "output_type": "execute_result"
    }
   ],
   "source": [
    "len(ratings_ds['element_uid'].unique())"
   ]
  },
  {
   "cell_type": "markdown",
   "id": "f71698b6",
   "metadata": {},
   "source": [
    "В среднем каждый фильм имеет по 7 оценок, но более чем у 2355 фильмов оценок меньше трёх, а это почти больше половины всех фильмов в тренировчном датасете!"
   ]
  }
 ],
 "metadata": {
  "kernelspec": {
   "display_name": "Python 3 (ipykernel)",
   "language": "python",
   "name": "python3"
  },
  "language_info": {
   "codemirror_mode": {
    "name": "ipython",
    "version": 3
   },
   "file_extension": ".py",
   "mimetype": "text/x-python",
   "name": "python",
   "nbconvert_exporter": "python",
   "pygments_lexer": "ipython3",
   "version": "3.8.10"
  }
 },
 "nbformat": 4,
 "nbformat_minor": 5
}
