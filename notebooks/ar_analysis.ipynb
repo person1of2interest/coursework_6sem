{
 "cells": [
  {
   "cell_type": "markdown",
   "id": "c507a0cd",
   "metadata": {},
   "source": [
    "## Исследование алгоритма, построенного на ассоциативных правилах"
   ]
  },
  {
   "cell_type": "markdown",
   "id": "a27d48a1",
   "metadata": {},
   "source": [
    "В этом файле изучается зависимость охвата по элементам (то есть процент фильмов, попадающих в рекомендации хотя бы одному человеку) от разных параметров, частота попадания фильмов в рекомендации и время работы алгоритма."
   ]
  },
  {
   "cell_type": "markdown",
   "id": "408ca470",
   "metadata": {},
   "source": [
    "### Часть 1. Охват"
   ]
  },
  {
   "cell_type": "code",
   "execution_count": 1,
   "id": "48d62822",
   "metadata": {},
   "outputs": [],
   "source": [
    "import pandas as pd\n",
    "import os\n",
    "import numpy as np\n",
    "from collections import defaultdict\n",
    "from itertools import combinations\n",
    "\n",
    "%matplotlib inline\n",
    "import matplotlib.pyplot as plt"
   ]
  },
  {
   "cell_type": "code",
   "execution_count": 2,
   "id": "c4fe6379",
   "metadata": {},
   "outputs": [],
   "source": [
    "DATA_PATH = '../data/'"
   ]
  },
  {
   "cell_type": "code",
   "execution_count": 3,
   "id": "6cab027c",
   "metadata": {},
   "outputs": [],
   "source": [
    "transactions_main = pd.read_csv(\n",
    "    os.path.join(DATA_PATH, 'transactions.csv'),\n",
    "    dtype={\n",
    "        'element_uid': np.uint16,\n",
    "        'user_uid': np.uint32,\n",
    "        'consumption_mode': 'category',\n",
    "        'ts': np.float64,\n",
    "        'watched_time': np.uint64,\n",
    "        'device_type': np.uint8,\n",
    "        'device_manufacturer': np.uint8\n",
    "    }\n",
    ")"
   ]
  },
  {
   "cell_type": "code",
   "execution_count": 4,
   "id": "3d800719",
   "metadata": {},
   "outputs": [
    {
     "data": {
      "text/html": [
       "<div>\n",
       "<style scoped>\n",
       "    .dataframe tbody tr th:only-of-type {\n",
       "        vertical-align: middle;\n",
       "    }\n",
       "\n",
       "    .dataframe tbody tr th {\n",
       "        vertical-align: top;\n",
       "    }\n",
       "\n",
       "    .dataframe thead th {\n",
       "        text-align: right;\n",
       "    }\n",
       "</style>\n",
       "<table border=\"1\" class=\"dataframe\">\n",
       "  <thead>\n",
       "    <tr style=\"text-align: right;\">\n",
       "      <th></th>\n",
       "      <th>element_uid</th>\n",
       "      <th>user_uid</th>\n",
       "      <th>consumption_mode</th>\n",
       "      <th>ts</th>\n",
       "      <th>watched_time</th>\n",
       "      <th>device_type</th>\n",
       "      <th>device_manufacturer</th>\n",
       "    </tr>\n",
       "  </thead>\n",
       "  <tbody>\n",
       "    <tr>\n",
       "      <th>0</th>\n",
       "      <td>3336</td>\n",
       "      <td>5177</td>\n",
       "      <td>S</td>\n",
       "      <td>4.430518e+07</td>\n",
       "      <td>4282</td>\n",
       "      <td>0</td>\n",
       "      <td>50</td>\n",
       "    </tr>\n",
       "    <tr>\n",
       "      <th>1</th>\n",
       "      <td>481</td>\n",
       "      <td>593316</td>\n",
       "      <td>S</td>\n",
       "      <td>4.430518e+07</td>\n",
       "      <td>2989</td>\n",
       "      <td>0</td>\n",
       "      <td>11</td>\n",
       "    </tr>\n",
       "    <tr>\n",
       "      <th>2</th>\n",
       "      <td>4128</td>\n",
       "      <td>262355</td>\n",
       "      <td>S</td>\n",
       "      <td>4.430518e+07</td>\n",
       "      <td>833</td>\n",
       "      <td>0</td>\n",
       "      <td>50</td>\n",
       "    </tr>\n",
       "    <tr>\n",
       "      <th>3</th>\n",
       "      <td>6272</td>\n",
       "      <td>74296</td>\n",
       "      <td>S</td>\n",
       "      <td>4.430518e+07</td>\n",
       "      <td>2530</td>\n",
       "      <td>0</td>\n",
       "      <td>99</td>\n",
       "    </tr>\n",
       "    <tr>\n",
       "      <th>4</th>\n",
       "      <td>5543</td>\n",
       "      <td>340623</td>\n",
       "      <td>P</td>\n",
       "      <td>4.430518e+07</td>\n",
       "      <td>6282</td>\n",
       "      <td>0</td>\n",
       "      <td>50</td>\n",
       "    </tr>\n",
       "    <tr>\n",
       "      <th>5</th>\n",
       "      <td>236</td>\n",
       "      <td>332814</td>\n",
       "      <td>S</td>\n",
       "      <td>4.430518e+07</td>\n",
       "      <td>3109</td>\n",
       "      <td>0</td>\n",
       "      <td>50</td>\n",
       "    </tr>\n",
       "  </tbody>\n",
       "</table>\n",
       "</div>"
      ],
      "text/plain": [
       "   element_uid  user_uid consumption_mode            ts  watched_time  \\\n",
       "0         3336      5177                S  4.430518e+07          4282   \n",
       "1          481    593316                S  4.430518e+07          2989   \n",
       "2         4128    262355                S  4.430518e+07           833   \n",
       "3         6272     74296                S  4.430518e+07          2530   \n",
       "4         5543    340623                P  4.430518e+07          6282   \n",
       "5          236    332814                S  4.430518e+07          3109   \n",
       "\n",
       "   device_type  device_manufacturer  \n",
       "0            0                   50  \n",
       "1            0                   11  \n",
       "2            0                   50  \n",
       "3            0                   99  \n",
       "4            0                   50  \n",
       "5            0                   50  "
      ]
     },
     "execution_count": 4,
     "metadata": {},
     "output_type": "execute_result"
    }
   ],
   "source": [
    "transactions_main.head(6)"
   ]
  },
  {
   "cell_type": "code",
   "execution_count": 5,
   "id": "981e520d",
   "metadata": {},
   "outputs": [],
   "source": [
    "def get_rec_list(trans_dict: dict, user, rules: list): # функция-часть main() из файла 'associative_rules.py'\n",
    "\n",
    "    recs_list = []\n",
    "\n",
    "    for rule in rules:\n",
    "        for element_id in trans_dict[user]:\n",
    "            if rule[0] == element_id:\n",
    "                recs_list.append(rule)\n",
    "\n",
    "    recs_list = sorted(recs_list, key = lambda l : l[2], reverse = True)\n",
    "    \n",
    "    # удаляем дубликаты, пересчитывая поддержку как среднее арифметическое\n",
    "    # поддержок всех рекомендаций соответствующего элемента\n",
    "    recs_dict = {}\n",
    "\n",
    "    for rec in recs_list:\n",
    "        if rec[1] not in recs_dict:\n",
    "            recs_dict[rec[1]] = [rec[2], 1]\n",
    "        else:\n",
    "            (recs_dict[rec[1]])[0] += rec[2]\n",
    "            (recs_dict[rec[1]])[1] += 1\n",
    "\n",
    "    recs_list_final = []\n",
    "        \n",
    "    for key, item in recs_dict.items():\n",
    "        recs_list_final.append((key, item[0]/item[1]))\n",
    "    \n",
    "    recs_list_final = sorted(recs_list_final, key = lambda t : t[1], reverse = True)\n",
    "\n",
    "    return [t[0] for t in recs_list_final]"
   ]
  },
  {
   "cell_type": "code",
   "execution_count": 6,
   "id": "fa18e3d4",
   "metadata": {},
   "outputs": [],
   "source": [
    "import sys \n",
    "sys.path.append('../code/')\n",
    "from associative_rules import generate_transactions, calculate_itemsets_one\n",
    "from associative_rules import calculate_itemsets_two, calculate_association_rules, get_rec_list "
   ]
  },
  {
   "cell_type": "code",
   "execution_count": 7,
   "id": "0ff3112c",
   "metadata": {},
   "outputs": [],
   "source": [
    "def main(data):\n",
    "    transactions_dict = generate_transactions(data)\n",
    "    users = transactions_dict.keys()\n",
    "    \n",
    "    coverage_list = []\n",
    "    movies_rec_sets = [set() for i in range(5)]\n",
    "    \n",
    "    n = len(data['element_uid'].unique())\n",
    "    \n",
    "    for t in np.linspace(0, 0.005, 5):\n",
    "        k = int(t // 0.00125)\n",
    "        one_itemsets = calculate_itemsets_one(transactions_dict, t)\n",
    "        two_itemsets = calculate_itemsets_two(transactions_dict, one_itemsets)\n",
    "        rules = calculate_association_rules(one_itemsets, two_itemsets, len(transactions_dict))\n",
    "    \n",
    "        # составляю рекомендации для каждого пользователя с определённным порогом поддержки\n",
    "        # и добавляю 5 лучших во множество всех рекомендованных фильмов movies_rec_sets\n",
    "        for user in users:\n",
    "            l = get_rec_list(transactions_dict, user, rules)\n",
    "            movies_rec_sets[k] |= set(l[:5])\n",
    "        \n",
    "        c = (len(movies_rec_sets[k]) / n)\n",
    "        coverage_list.append(c)\n",
    "        \n",
    "    return coverage_list"
   ]
  },
  {
   "cell_type": "code",
   "execution_count": 8,
   "id": "c9392a1f",
   "metadata": {},
   "outputs": [],
   "source": [
    "transactions = transactions_main.iloc[:30000][['element_uid', 'user_uid']]"
   ]
  },
  {
   "cell_type": "code",
   "execution_count": 9,
   "id": "81f209c6",
   "metadata": {
    "scrolled": true
   },
   "outputs": [],
   "source": [
    "coverage_list = main(transactions)"
   ]
  },
  {
   "cell_type": "code",
   "execution_count": 10,
   "id": "6c36a1da",
   "metadata": {},
   "outputs": [
    {
     "data": {
      "text/plain": [
       "[69.36722266348954,\n",
       " 6.777866031241726,\n",
       " 2.7270320360074134,\n",
       " 2.7270320360074134,\n",
       " 0.7413290971670639]"
      ]
     },
     "execution_count": 10,
     "metadata": {},
     "output_type": "execute_result"
    }
   ],
   "source": [
    "coverage_list = [i*100 for i in coverage_list] # перевожу в проценты\n",
    "coverage_list"
   ]
  },
  {
   "cell_type": "code",
   "execution_count": 11,
   "id": "a6a0f91e",
   "metadata": {},
   "outputs": [
    {
     "data": {
      "image/png": "[encoded data removed]",
      "text/plain": [
       "<Figure size 432x288 with 1 Axes>"
      ]
     },
     "metadata": {
      "needs_background": "light"
     },
     "output_type": "display_data"
    }
   ],
   "source": [
    "plt.plot(np.linspace(0, 0.005, 5), \n",
    "         coverage_list)\n",
    "plt.xticks(rotation=30)\n",
    "plt.xlabel('Значение min_sup') \n",
    "plt.ylabel('Охват в %')\n",
    "plt.title('min_sup из [0, 0.005]')\n",
    "plt.savefig('ar_coverage1.png', \n",
    "            transparent=True, \n",
    "            bbox_inches='tight')\n",
    "plt.show()"
   ]
  },
  {
   "cell_type": "markdown",
   "id": "9a97a007",
   "metadata": {},
   "source": [
    "**Наблюдение:** \\\n",
    "Охват заметно убывает при увеличении порога поддержки (min_sup). \\\n",
    "Вопрос выбора порога --- это вопрос баланса между качеством и количеством, так как, уменьшая порог, мы уменьшаем нашу уверенность в том, что наши рекомендации релевантны и понравятся пользователю. При этом, избавляясь от условия необходимости наличия определенной поддержки (иначе говоря, полагая порог равным нулю), мы получаем охват, равный почти 70%, то есть 70% от всех фильмов попадают в рекомендации. А при пороге поддержки, равном 0.0025, более 70% остаются неохваченными, то есть не могут обнаружены благодаря рекомендациям --- см.далее."
   ]
  },
  {
   "cell_type": "markdown",
   "id": "c9872f51",
   "metadata": {},
   "source": [
    "На графике выше видно, что резкое падение значения происходит на промежутке $[0,0.001]$ - рассмотрим подробнее: "
   ]
  },
  {
   "cell_type": "code",
   "execution_count": 12,
   "id": "6725e310",
   "metadata": {},
   "outputs": [],
   "source": [
    "def main2(data):\n",
    "    transactions_dict = generate_transactions(data)\n",
    "    users = transactions_dict.keys()\n",
    "    \n",
    "    coverage_list = []\n",
    "    movies_rec_sets = [set() for i in range(5)]\n",
    "    \n",
    "    n = len(data['element_uid'].unique())\n",
    "    \n",
    "    for t in np.linspace(0, 0.001, 5): # аналогично main(), но для значений min_sup из [0, 0.001]\n",
    "        k = int(t // 0.0002)\n",
    "        one_itemsets = calculate_itemsets_one(transactions_dict, t)\n",
    "        two_itemsets = calculate_itemsets_two(transactions_dict, one_itemsets)\n",
    "        rules = calculate_association_rules(one_itemsets, two_itemsets, len(transactions_dict))\n",
    "    \n",
    "        for user in users:\n",
    "            l = get_rec_list(transactions_dict, user, rules)\n",
    "            movies_rec_sets[k] |= set(l[:5])\n",
    "        \n",
    "        c = (len(movies_rec_sets[k]) / n)\n",
    "        coverage_list.append(c)\n",
    "        \n",
    "    return coverage_list"
   ]
  },
  {
   "cell_type": "code",
   "execution_count": 13,
   "id": "85029275",
   "metadata": {},
   "outputs": [],
   "source": [
    "transactions = transactions_main.iloc[:30000][['element_uid', 'user_uid']]"
   ]
  },
  {
   "cell_type": "code",
   "execution_count": 14,
   "id": "480ae524",
   "metadata": {
    "scrolled": true
   },
   "outputs": [],
   "source": [
    "coverage_list_2 = main2(transactions)"
   ]
  },
  {
   "cell_type": "code",
   "execution_count": 15,
   "id": "da27fe55",
   "metadata": {},
   "outputs": [
    {
     "data": {
      "text/plain": [
       "[69.36722266348954,\n",
       " 30.394492983849613,\n",
       " 17.500661900979615,\n",
       " 12.417262377548319,\n",
       " 9.10775747948107]"
      ]
     },
     "execution_count": 15,
     "metadata": {},
     "output_type": "execute_result"
    }
   ],
   "source": [
    "coverage_list_2 = [i*100 for i in coverage_list_2] # перевожу в проценты\n",
    "coverage_list_2"
   ]
  },
  {
   "cell_type": "code",
   "execution_count": 16,
   "id": "291eec30",
   "metadata": {},
   "outputs": [
    {
     "data": {
      "image/png": "[encoded data removed]",
      "text/plain": [
       "<Figure size 432x288 with 1 Axes>"
      ]
     },
     "metadata": {
      "needs_background": "light"
     },
     "output_type": "display_data"
    }
   ],
   "source": [
    "plt.plot(np.linspace(0, 0.001, 5), \n",
    "         coverage_list_2)\n",
    "plt.xticks(rotation=30)\n",
    "plt.xlabel('Значение min_sup') \n",
    "plt.ylabel('Охват в %')\n",
    "plt.title('min_sup из [0, 0.001]')\n",
    "plt.savefig('ar_coverage2.png', \n",
    "            transparent=True, \n",
    "            bbox_inches='tight')\n",
    "plt.show()"
   ]
  },
  {
   "cell_type": "markdown",
   "id": "f903c956",
   "metadata": {},
   "source": [
    "Выбираю значение min_sup = 0.0001 как оптимальное - в этом случае хотя бы половина фильмов попадёт в рекомендации пользователям."
   ]
  },
  {
   "cell_type": "code",
   "execution_count": 17,
   "id": "797b725c",
   "metadata": {},
   "outputs": [],
   "source": [
    "def main3(data):\n",
    "    transactions_dict = generate_transactions(data)\n",
    "    users = transactions_dict.keys()\n",
    "    \n",
    "    coverage_list = []\n",
    "    movies_rec_sets = [set() for i in range(5)]\n",
    "    \n",
    "    n = len(data['element_uid'].unique())\n",
    "    \n",
    "    one_itemsets = calculate_itemsets_one(transactions_dict, 0.0001)\n",
    "    two_itemsets = calculate_itemsets_two(transactions_dict, one_itemsets)\n",
    "    rules = calculate_association_rules(one_itemsets, two_itemsets, len(transactions_dict))\n",
    "    \n",
    "    for user in users:\n",
    "        l = get_rec_list(transactions_dict, user, rules)\n",
    "        \n",
    "        for i in range(5, 30, 5):\n",
    "            if i < len(l):\n",
    "                movies_rec_sets[i // 5 - 1] |= set(l[:i])\n",
    "            else:\n",
    "                movies_rec_sets[i // 5 - 1] |= set(l)\n",
    "                \n",
    "    for j in range(5):    \n",
    "        c = (len(movies_rec_sets[j]) / n)\n",
    "        coverage_list.append(c)\n",
    "        \n",
    "    return coverage_list"
   ]
  },
  {
   "cell_type": "code",
   "execution_count": 18,
   "id": "ef474b7b",
   "metadata": {},
   "outputs": [],
   "source": [
    "transactions = transactions_main.iloc[:30000][['element_uid', 'user_uid']]"
   ]
  },
  {
   "cell_type": "code",
   "execution_count": 19,
   "id": "09d698bd",
   "metadata": {
    "scrolled": true
   },
   "outputs": [],
   "source": [
    "coverage_list_3 = main3(transactions)"
   ]
  },
  {
   "cell_type": "code",
   "execution_count": 20,
   "id": "ac0ab106",
   "metadata": {},
   "outputs": [
    {
     "data": {
      "text/plain": [
       "[53.53455123113582,\n",
       " 56.42043950225046,\n",
       " 57.744241461477365,\n",
       " 58.61795075456712,\n",
       " 58.909187185597034]"
      ]
     },
     "execution_count": 20,
     "metadata": {},
     "output_type": "execute_result"
    }
   ],
   "source": [
    "coverage_list_3 = [i*100 for i in coverage_list_3] # перевожу в проценты\n",
    "coverage_list_3"
   ]
  },
  {
   "cell_type": "code",
   "execution_count": 21,
   "id": "5e231adb",
   "metadata": {},
   "outputs": [
    {
     "data": {
      "image/png": "[encoded data removed]",
      "text/plain": [
       "<Figure size 432x288 with 1 Axes>"
      ]
     },
     "metadata": {
      "needs_background": "light"
     },
     "output_type": "display_data"
    }
   ],
   "source": [
    "plt.plot(np.linspace(5, 25, 5), \n",
    "         coverage_list_3)\n",
    "plt.xlabel('Количество рекомендаций для каждого отдельного пользователя') \n",
    "plt.ylabel('Охват в %')\n",
    "plt.title('Зависимость охвата от количества рекомендаций\\n'\n",
    "          '(min_sup=0.0001)')\n",
    "plt.savefig('ar_coverage3.png', \n",
    "            transparent=True,\n",
    "            bbox_inches='tight')\n",
    "plt.show()"
   ]
  },
  {
   "cell_type": "markdown",
   "id": "1ba5a63e",
   "metadata": {},
   "source": [
    "**Наблюдение:** \\\n",
    "Значение охвата не сильно меняется при увеличении количества рекомендаций для каждого пользователя (рассматриваю сетку от 5 до 25 включительно с шагом 5). Однако, как логично предположить, чем больше рекомендаций для каждого конкретного пользователя мы выделяем, тем больше разнообразие рекомендуемых фильмов. Учитывая, что в рекомендательной системе алгоритм, построенный при помощи ассоциативных правил, является не единственным, 10-ти рекомендаций будет вполне достаточно."
   ]
  },
  {
   "cell_type": "markdown",
   "id": "9a0e985c",
   "metadata": {},
   "source": [
    "Таким образом, при min_sup = 0.0001 и 10-ти рекомендациях получаем охват 56%."
   ]
  },
  {
   "cell_type": "markdown",
   "id": "058e6ad7",
   "metadata": {},
   "source": [
    "### Часть 2. Частота попадания в рекомендации"
   ]
  },
  {
   "cell_type": "markdown",
   "id": "073440cf",
   "metadata": {},
   "source": [
    "Посмотрим, как часто фильмы попадают в рекомендации.\n",
    "Для этого будем отбирать лучшие 10 рекомендаций для каждого пользователя."
   ]
  },
  {
   "cell_type": "code",
   "execution_count": 22,
   "id": "0245c3f0",
   "metadata": {},
   "outputs": [],
   "source": [
    "from collections import Counter\n",
    "import seaborn as sns"
   ]
  },
  {
   "cell_type": "code",
   "execution_count": 23,
   "id": "375f63b6",
   "metadata": {},
   "outputs": [],
   "source": [
    "def main4(data):\n",
    "    transactions_dict = generate_transactions(data)\n",
    "    users = transactions_dict.keys()\n",
    "\n",
    "    movies_rec_list = np.array([])\n",
    "    \n",
    "    n = len(data['element_uid'].unique())\n",
    "    \n",
    "    one_itemsets = calculate_itemsets_one(transactions_dict, 0.0001)\n",
    "    two_itemsets = calculate_itemsets_two(transactions_dict, one_itemsets)\n",
    "    rules = calculate_association_rules(one_itemsets, two_itemsets, len(transactions_dict))\n",
    "    \n",
    "    for user in users:\n",
    "        l = get_rec_list(transactions_dict, user, rules)[:10]\n",
    "        movies_rec_list = np.concatenate((movies_rec_list, np.array(l)))\n",
    "        \n",
    "    return movies_rec_list"
   ]
  },
  {
   "cell_type": "code",
   "execution_count": 24,
   "id": "d44336a5",
   "metadata": {},
   "outputs": [],
   "source": [
    "transactions = transactions_main.iloc[:30000][['element_uid', 'user_uid']]"
   ]
  },
  {
   "cell_type": "code",
   "execution_count": 25,
   "id": "c11bcf1a",
   "metadata": {
    "scrolled": true
   },
   "outputs": [],
   "source": [
    "movies_rec_list = main4(transactions)"
   ]
  },
  {
   "cell_type": "code",
   "execution_count": 26,
   "id": "832b6710",
   "metadata": {},
   "outputs": [],
   "source": [
    "freq = list(dict(Counter(movies_rec_list)).values())"
   ]
  },
  {
   "cell_type": "code",
   "execution_count": 27,
   "id": "9ee8edf5",
   "metadata": {},
   "outputs": [
    {
     "data": {
      "image/png": "[encoded data removed]",
      "text/plain": [
       "<Figure size 432x288 with 1 Axes>"
      ]
     },
     "metadata": {
      "needs_background": "light"
     },
     "output_type": "display_data"
    }
   ],
   "source": [
    "sns.histplot(x=freq, element=\"poly\", log_scale=True)\n",
    "plt.xlabel('Количество попаданий в рекомендации') \n",
    "plt.ylabel('Количество фильмов') \n",
    "plt.title('Частота попадания в рекомендации')\n",
    "plt.savefig('ar_coverage4.png', \n",
    "            transparent=True, \n",
    "            bbox_inches='tight')\n",
    "plt.show()"
   ]
  },
  {
   "cell_type": "code",
   "execution_count": 28,
   "id": "faeb8c2f",
   "metadata": {},
   "outputs": [
    {
     "name": "stdout",
     "output_type": "stream",
     "text": [
      "Среднее число попаданий в рекомендации: 74.7\n"
     ]
    }
   ],
   "source": [
    "print('Среднее число попаданий в рекомендации:', round(np.mean(freq), 1))"
   ]
  },
  {
   "cell_type": "code",
   "execution_count": 29,
   "id": "fc949f69",
   "metadata": {},
   "outputs": [
    {
     "name": "stdout",
     "output_type": "stream",
     "text": [
      "Число уникальных пользователей: 18652\n"
     ]
    }
   ],
   "source": [
    "print('Число уникальных пользователей:', len(transactions['user_uid'].unique()))"
   ]
  },
  {
   "cell_type": "markdown",
   "id": "35c18713",
   "metadata": {},
   "source": [
    "Приведённый выше график отражает зависимость количества фильмов от количества попаданий в рекомендации. Изучая его, можно заметить, что среди всех рекомендаций пользователям большинство фильмов (более 200) встречается около 20-ти раз - иначе говоря, попадает в рекомендации 20-ти пользователям. В среднем каждый фильм рекомендуется около 75-ти раз, но есть и экстремальные значения --- есть как фильмы, которые рекомендуются всего нескольким из 18-ти с лишним тысяч пользователей, так и те, что рекомендуются каждому 20-му. "
   ]
  },
  {
   "cell_type": "markdown",
   "id": "b92b452c",
   "metadata": {},
   "source": [
    "### Часть 3. Время работы"
   ]
  },
  {
   "cell_type": "markdown",
   "id": "c8174329",
   "metadata": {},
   "source": [
    "В силу того что рекомендации для каждого отдельного пользователя (при фиксированном их числе) на выходе определяются как срез списка уже отсортированных рекомендаций, время, затрачиваемое на генерацию 5-ти или 10-ти рекомендаций, почти не будет отличаться. "
   ]
  },
  {
   "cell_type": "code",
   "execution_count": 30,
   "id": "cc2f7238",
   "metadata": {},
   "outputs": [],
   "source": [
    "import time"
   ]
  },
  {
   "cell_type": "code",
   "execution_count": 31,
   "id": "a8426260",
   "metadata": {},
   "outputs": [],
   "source": [
    "transactions = transactions_main.iloc[:30000]"
   ]
  },
  {
   "cell_type": "code",
   "execution_count": 37,
   "id": "e6cbf686",
   "metadata": {
    "scrolled": true
   },
   "outputs": [],
   "source": [
    "def main5(user, transactions):\n",
    "    start1_time = time.time()\n",
    "    transactions_dict = generate_transactions(transactions)\n",
    "    one_itemsets = calculate_itemsets_one(transactions_dict)\n",
    "    two_itemsets = calculate_itemsets_two(transactions_dict, one_itemsets)\n",
    "    rules = calculate_association_rules(one_itemsets, two_itemsets, len(transactions_dict))\n",
    "    \n",
    "    end1_time = time.time()\n",
    "    start2_time = time.time_ns()\n",
    "    recs_list = get_rec_list(transactions_dict, user, rules)[:10]\n",
    "    \n",
    "    end2_time = time.time_ns()\n",
    "    \n",
    "    return (recs_list, round(end1_time - start1_time, 2), round(end2_time - start2_time, 2))"
   ]
  },
  {
   "cell_type": "code",
   "execution_count": 38,
   "id": "d2aeba30",
   "metadata": {},
   "outputs": [],
   "source": [
    "user = 240316\n",
    "recs_list, t1, t2 = main5(user, transactions)"
   ]
  },
  {
   "cell_type": "code",
   "execution_count": 39,
   "id": "9e20dba0",
   "metadata": {},
   "outputs": [
    {
     "name": "stdout",
     "output_type": "stream",
     "text": [
      "Рекомендации для пользователя 240316: [9341, 9661, 2694, 8739, 4548, 4366, 6955, 9311, 603, 9817]\n",
      "Время на ассоциативные правила: 1.0s\n",
      "Время на рекомендации: 98691ns\n"
     ]
    }
   ],
   "source": [
    "print(f'Рекомендации для пользователя {user}:', recs_list)\n",
    "print(f'Время на ассоциативные правила: {t1}s')\n",
    "print(f'Время на рекомендации: {t2}ns')"
   ]
  },
  {
   "cell_type": "markdown",
   "id": "502f694e",
   "metadata": {},
   "source": [
    "10 рекомендаций этот алгоритм генерирует за примерно $10^{-4}$ секунды. А все предварительные вычисления выполняет за секунду (сразу для всех пользователей). Поэтому при подобном порядке размерности входных данных (30_000 строк) и небольшом потоке посетителей рекомендательный алгоритм может работать в онлайн-режиме, составляя рекомендации в тот момент, когда пользователь заходит на сайт, и выполняя общие вычисления по мере поступления новых данных с учётом текущей нагрузки на систему."
   ]
  },
  {
   "cell_type": "code",
   "execution_count": null,
   "id": "ee5299ed",
   "metadata": {},
   "outputs": [],
   "source": []
  }
 ],
 "metadata": {
  "kernelspec": {
   "display_name": "Python 3 (ipykernel)",
   "language": "python",
   "name": "python3"
  },
  "language_info": {
   "codemirror_mode": {
    "name": "ipython",
    "version": 3
   },
   "file_extension": ".py",
   "mimetype": "text/x-python",
   "name": "python",
   "nbconvert_exporter": "python",
   "pygments_lexer": "ipython3",
   "version": "3.8.10"
  }
 },
 "nbformat": 4,
 "nbformat_minor": 5
}
