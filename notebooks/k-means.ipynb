{
 "cells": [
  {
   "cell_type": "markdown",
   "id": "607e50ba",
   "metadata": {},
   "source": [
    "## Алгоритм k-means\n",
    "\n",
    "В этом блокноте приводится реализация алгоритма k-means и кластеризация пользователей относительно оценок, которые они дали фильмам, с целью выделить группы похожих пользователей"
   ]
  },
  {
   "cell_type": "code",
   "execution_count": 1,
   "id": "f23e5cb2",
   "metadata": {},
   "outputs": [],
   "source": [
    "import pandas as pd\n",
    "import os\n",
    "import numpy as np\n",
    "\n",
    "DATA_PATH = '../data/'\n",
    "\n",
    "ratings_main = pd.read_csv(\n",
    "    os.path.join(DATA_PATH, 'ratings.csv'),\n",
    "    dtype={\n",
    "        'user_uid': np.uint32,\n",
    "        'element_uid': np.uint16,\n",
    "        'rating': np.uint8,\n",
    "        'ts': np.float64,\n",
    "    }\n",
    ")"
   ]
  },
  {
   "cell_type": "code",
   "execution_count": 2,
   "id": "ca8a9c4a",
   "metadata": {
    "scrolled": true
   },
   "outputs": [
    {
     "data": {
      "text/html": [
       "<div>\n",
       "<style scoped>\n",
       "    .dataframe tbody tr th:only-of-type {\n",
       "        vertical-align: middle;\n",
       "    }\n",
       "\n",
       "    .dataframe tbody tr th {\n",
       "        vertical-align: top;\n",
       "    }\n",
       "\n",
       "    .dataframe thead th {\n",
       "        text-align: right;\n",
       "    }\n",
       "</style>\n",
       "<table border=\"1\" class=\"dataframe\">\n",
       "  <thead>\n",
       "    <tr style=\"text-align: right;\">\n",
       "      <th></th>\n",
       "      <th>user_uid</th>\n",
       "      <th>element_uid</th>\n",
       "      <th>rating</th>\n",
       "      <th>ts</th>\n",
       "    </tr>\n",
       "  </thead>\n",
       "  <tbody>\n",
       "    <tr>\n",
       "      <th>0</th>\n",
       "      <td>571252</td>\n",
       "      <td>1364</td>\n",
       "      <td>10</td>\n",
       "      <td>4.430517e+07</td>\n",
       "    </tr>\n",
       "    <tr>\n",
       "      <th>1</th>\n",
       "      <td>63140</td>\n",
       "      <td>3037</td>\n",
       "      <td>10</td>\n",
       "      <td>4.430514e+07</td>\n",
       "    </tr>\n",
       "    <tr>\n",
       "      <th>2</th>\n",
       "      <td>443817</td>\n",
       "      <td>4363</td>\n",
       "      <td>8</td>\n",
       "      <td>4.430514e+07</td>\n",
       "    </tr>\n",
       "    <tr>\n",
       "      <th>3</th>\n",
       "      <td>359870</td>\n",
       "      <td>1364</td>\n",
       "      <td>10</td>\n",
       "      <td>4.430506e+07</td>\n",
       "    </tr>\n",
       "    <tr>\n",
       "      <th>4</th>\n",
       "      <td>359870</td>\n",
       "      <td>3578</td>\n",
       "      <td>9</td>\n",
       "      <td>4.430506e+07</td>\n",
       "    </tr>\n",
       "    <tr>\n",
       "      <th>5</th>\n",
       "      <td>557663</td>\n",
       "      <td>1918</td>\n",
       "      <td>10</td>\n",
       "      <td>4.430505e+07</td>\n",
       "    </tr>\n",
       "  </tbody>\n",
       "</table>\n",
       "</div>"
      ],
      "text/plain": [
       "   user_uid  element_uid  rating            ts\n",
       "0    571252         1364      10  4.430517e+07\n",
       "1     63140         3037      10  4.430514e+07\n",
       "2    443817         4363       8  4.430514e+07\n",
       "3    359870         1364      10  4.430506e+07\n",
       "4    359870         3578       9  4.430506e+07\n",
       "5    557663         1918      10  4.430505e+07"
      ]
     },
     "execution_count": 2,
     "metadata": {},
     "output_type": "execute_result"
    }
   ],
   "source": [
    "ratings_main.head(6)"
   ]
  },
  {
   "cell_type": "code",
   "execution_count": 3,
   "id": "510873a7",
   "metadata": {},
   "outputs": [],
   "source": [
    "#вырежем первые 2000 строк для тестирования\n",
    "ratings = ratings_main.iloc[:2000]"
   ]
  },
  {
   "cell_type": "code",
   "execution_count": 4,
   "id": "3a1bcd10",
   "metadata": {
    "scrolled": true
   },
   "outputs": [],
   "source": [
    "movies_list = list(set(ratings['element_uid'])) \n",
    "#gets the list of all movies that have been rated by at least someone"
   ]
  },
  {
   "cell_type": "code",
   "execution_count": 5,
   "id": "2f4c5eea",
   "metadata": {},
   "outputs": [],
   "source": [
    "def generate_ratings_dict(data) -> dict:\n",
    "    ratings_dict = {}\n",
    "    \n",
    "    for _, item in data.iterrows():\n",
    "        user_id = item['user_uid']\n",
    "        \n",
    "        if user_id not in ratings_dict:\n",
    "            ratings_dict[user_id] = {}\n",
    "        \n",
    "        (ratings_dict[user_id])[item['element_uid']] = item['rating']\n",
    "    \n",
    "    return ratings_dict"
   ]
  },
  {
   "cell_type": "code",
   "execution_count": 6,
   "id": "ab190b19",
   "metadata": {
    "scrolled": true
   },
   "outputs": [],
   "source": [
    "ratings_dict = generate_ratings_dict(ratings)"
   ]
  },
  {
   "cell_type": "code",
   "execution_count": 7,
   "id": "39d36775",
   "metadata": {},
   "outputs": [],
   "source": [
    "def generate_data(ratings_dict: dict, movies_list: list) -> dict:\n",
    "    data_dict = {}\n",
    "    n = len(movies_list)\n",
    "    \n",
    "    for user_id, item in ratings_dict.items():        \n",
    "        if user_id not in data_dict:\n",
    "            data_dict[user_id] = [0]*n\n",
    "        \n",
    "        for i in range(n):\n",
    "            if movies_list[i] in ratings_dict[user_id]:\n",
    "                (data_dict[user_id])[i] = (ratings_dict[user_id])[movies_list[i]]\n",
    "    \n",
    "    return data_dict"
   ]
  },
  {
   "cell_type": "code",
   "execution_count": 8,
   "id": "ebdc4403",
   "metadata": {},
   "outputs": [],
   "source": [
    "data_dict = generate_data(ratings_dict, movies_list)"
   ]
  },
  {
   "cell_type": "code",
   "execution_count": 9,
   "id": "11d0319f",
   "metadata": {},
   "outputs": [],
   "source": [
    "import random\n",
    "\n",
    "def generate_centroids(k: int, data_list: list) -> list: #chooses random k users as initial centroids\n",
    "    return random.sample(data_list, k)"
   ]
  },
  {
   "cell_type": "code",
   "execution_count": 10,
   "id": "63803767",
   "metadata": {},
   "outputs": [
    {
     "data": {
      "text/plain": [
       "[467946.0, 375252.0, 442550.0, 345066.0]"
      ]
     },
     "execution_count": 10,
     "metadata": {},
     "output_type": "execute_result"
    }
   ],
   "source": [
    "generate_centroids(4, list(data_dict))"
   ]
  },
  {
   "cell_type": "code",
   "execution_count": 11,
   "id": "dc0f3ddf",
   "metadata": {},
   "outputs": [],
   "source": [
    "import math\n",
    "\n",
    "def distance(u: list, v: list) -> float: #finds the distance between two vectors\n",
    "    dist = 0\n",
    "\n",
    "    for i in range(len(u)):\n",
    "        dist += math.pow((u[i] - v[i]), 2)\n",
    "\n",
    "    return math.sqrt(dist)"
   ]
  },
  {
   "cell_type": "code",
   "execution_count": 12,
   "id": "875bca14",
   "metadata": {},
   "outputs": [],
   "source": [
    "def add_to_cluster(item: int, centroids: list, data_dict: dict): #centroids = list of lists\n",
    "    return item, min(range(len(centroids)), key = lambda i: distance(data_dict[item], centroids[i]))"
   ]
  },
  {
   "cell_type": "code",
   "execution_count": 13,
   "id": "6e084d56",
   "metadata": {},
   "outputs": [],
   "source": [
    "from functools import reduce\n",
    "\n",
    "def add_vector(u: list, v: list) -> list:\n",
    "    return [u[k] + v[k] for k in range(len(v))]\n",
    "\n",
    "def move_centroids(k: int, iteration: list, data_dict: dict) -> list:\n",
    "    centroids = []\n",
    "\n",
    "    for cen in range(k):\n",
    "        members = [i[0] for i in iteration if i[1] == cen] #finds all members of this cluster\n",
    "\n",
    "        if members:\n",
    "            centroid = [i/len(members) for i in reduce(add_vector, [data_dict[m] for m in members])]\n",
    "            centroids.append(centroid)\n",
    "    \n",
    "    return centroids"
   ]
  },
  {
   "cell_type": "code",
   "execution_count": 14,
   "id": "c4857a9a",
   "metadata": {},
   "outputs": [],
   "source": [
    "def k_means(k: int, data_dict: dict) -> list:\n",
    "    best_weight = math.inf\n",
    "    data_list = list(data_dict)\n",
    "    centroids = [data_dict[i] for i in generate_centroids(k, data_list)]\n",
    "\n",
    "    while True:\n",
    "        iteration = list([add_to_cluster(item, centroids, data_dict) for item in data_list])\n",
    "        new_weight = 0\n",
    "        \n",
    "        for i in iteration:\n",
    "            new_weight += distance(data_dict[i[0]], centroids[i[1]]) \n",
    "            #calculates the distance between each item and its centroid\n",
    "        \n",
    "        #if the new weight is better than the best weight, it continues;\n",
    "        #otherwise, it returns\n",
    "        if new_weight < best_weight:\n",
    "            best_weight = new_weight\n",
    "            new_weight = 0\n",
    "        else:\n",
    "            return iteration\n",
    "\n",
    "        centroids = move_centroids(k, iteration, data_dict)"
   ]
  },
  {
   "cell_type": "code",
   "execution_count": 15,
   "id": "c39d61c9",
   "metadata": {},
   "outputs": [],
   "source": [
    "clustered_users = k_means(4, data_dict)"
   ]
  },
  {
   "cell_type": "code",
   "execution_count": 16,
   "id": "bf1b014c",
   "metadata": {
    "scrolled": true
   },
   "outputs": [
    {
     "data": {
      "text/plain": [
       "[(504.0, 0),\n",
       " (1120.0, 0),\n",
       " (1464.0, 0),\n",
       " (1671.0, 0),\n",
       " (1942.0, 0),\n",
       " (3074.0, 3),\n",
       " (4539.0, 0),\n",
       " (5113.0, 0),\n",
       " (5177.0, 0),\n",
       " (5988.0, 0)]"
      ]
     },
     "execution_count": 16,
     "metadata": {},
     "output_type": "execute_result"
    }
   ],
   "source": [
    "sorted(clustered_users, key = lambda t : t[0])[:10]"
   ]
  },
  {
   "cell_type": "markdown",
   "id": "eab3f800",
   "metadata": {},
   "source": [
    "Проделаем то же с помощью библиотеки ```scikit-learn``` и сравним результаты:"
   ]
  },
  {
   "cell_type": "code",
   "execution_count": null,
   "id": "42ad1b8d",
   "metadata": {},
   "outputs": [],
   "source": [
    "X = list(data_dict.values())\n",
    "\n",
    "from sklearn.cluster import KMeans\n",
    "\n",
    "km = KMeans(\n",
    "    n_clusters=4, init='random',\n",
    "    n_init=10, max_iter=300, \n",
    "    tol=1e-04, random_state=0\n",
    ")\n",
    "y_km = km.fit_predict(X)"
   ]
  },
  {
   "cell_type": "code",
   "execution_count": null,
   "id": "9d8badf4",
   "metadata": {
    "scrolled": false
   },
   "outputs": [],
   "source": [
    "clustered_sklearn = [(list(data_dict)[i], y_km[i]) for i in range(len(y_km))]\n",
    "sorted(clustered_sklearn, key = lambda t : t[0])[:10]"
   ]
  },
  {
   "cell_type": "code",
   "execution_count": null,
   "id": "57ab3112",
   "metadata": {},
   "outputs": [],
   "source": [
    "symm_diff = set()\n",
    "intersection = set()\n",
    "clustered_users = sorted(clustered_users, key = lambda t : t[0])\n",
    "clustered_sklearn = sorted(clustered_sklearn, key = lambda t : t[0])\n",
    "\n",
    "#так как кластеры могут нумероваться в любом порядке, сравним кластеры, \n",
    "#соответствующие первому пользователю в отсортированном списке\n",
    "num_1 = clustered_users[0][1]\n",
    "num_2 = clustered_sklearn[0][1]\n",
    "\n",
    "for i in range(len(clustered_users)):\n",
    "    if (clustered_users[i][1] == num_1 and clustered_sklearn[i][1] != num_2) or (clustered_users[i][1] != num_1 and clustered_sklearn[i][1] == num_2):\n",
    "        symm_diff.add(clustered_users[i])\n",
    "    elif clustered_users[i][1] == num_1 and clustered_sklearn[i][1] == num_2:\n",
    "        intersection.add(clustered_users[i])\n",
    "\n",
    "format(100*len(symm_diff)/len(intersection), '.2f') \n",
    "#выводится отношение (в %) симметрической разности множеств пользователей для этих двух кластеров к их пересечению"
   ]
  },
  {
   "cell_type": "markdown",
   "id": "67927a25",
   "metadata": {},
   "source": [
    "Заметим, что полученное значение мало, что говорит о корректности реализации алгоритма"
   ]
  }
 ],
 "metadata": {
  "kernelspec": {
   "display_name": "Python 3 (ipykernel)",
   "language": "python",
   "name": "python3"
  },
  "language_info": {
   "codemirror_mode": {
    "name": "ipython",
    "version": 3
   },
   "file_extension": ".py",
   "mimetype": "text/x-python",
   "name": "python",
   "nbconvert_exporter": "python",
   "pygments_lexer": "ipython3",
   "version": "3.8.10"
  }
 },
 "nbformat": 4,
 "nbformat_minor": 5
}
