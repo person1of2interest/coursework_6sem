{
 "cells": [
  {
   "cell_type": "markdown",
   "id": "2be81317",
   "metadata": {},
   "source": [
    "### Реализация алгоритма коллаборативной фильтрации"
   ]
  },
  {
   "cell_type": "code",
   "execution_count": 103,
   "id": "54056e1f",
   "metadata": {},
   "outputs": [],
   "source": [
    "import pandas as pd\n",
    "import os\n",
    "import numpy as np\n",
    "\n",
    "DATA_PATH = '../data/'\n",
    "\n",
    "ratings_main = pd.read_csv(\n",
    "    os.path.join(DATA_PATH, 'ratings.csv'),\n",
    "    dtype={\n",
    "        'user_uid': np.uint32,\n",
    "        'element_uid': np.uint16,\n",
    "        'rating': np.uint8,\n",
    "        'ts': np.float64,\n",
    "    }\n",
    ")"
   ]
  },
  {
   "cell_type": "code",
   "execution_count": 104,
   "id": "e2528146",
   "metadata": {},
   "outputs": [
    {
     "data": {
      "text/html": [
       "<div>\n",
       "<style scoped>\n",
       "    .dataframe tbody tr th:only-of-type {\n",
       "        vertical-align: middle;\n",
       "    }\n",
       "\n",
       "    .dataframe tbody tr th {\n",
       "        vertical-align: top;\n",
       "    }\n",
       "\n",
       "    .dataframe thead th {\n",
       "        text-align: right;\n",
       "    }\n",
       "</style>\n",
       "<table border=\"1\" class=\"dataframe\">\n",
       "  <thead>\n",
       "    <tr style=\"text-align: right;\">\n",
       "      <th></th>\n",
       "      <th>user_uid</th>\n",
       "      <th>element_uid</th>\n",
       "      <th>rating</th>\n",
       "      <th>ts</th>\n",
       "    </tr>\n",
       "  </thead>\n",
       "  <tbody>\n",
       "    <tr>\n",
       "      <th>0</th>\n",
       "      <td>571252</td>\n",
       "      <td>1364</td>\n",
       "      <td>10</td>\n",
       "      <td>4.430517e+07</td>\n",
       "    </tr>\n",
       "    <tr>\n",
       "      <th>1</th>\n",
       "      <td>63140</td>\n",
       "      <td>3037</td>\n",
       "      <td>10</td>\n",
       "      <td>4.430514e+07</td>\n",
       "    </tr>\n",
       "    <tr>\n",
       "      <th>2</th>\n",
       "      <td>443817</td>\n",
       "      <td>4363</td>\n",
       "      <td>8</td>\n",
       "      <td>4.430514e+07</td>\n",
       "    </tr>\n",
       "    <tr>\n",
       "      <th>3</th>\n",
       "      <td>359870</td>\n",
       "      <td>1364</td>\n",
       "      <td>10</td>\n",
       "      <td>4.430506e+07</td>\n",
       "    </tr>\n",
       "    <tr>\n",
       "      <th>4</th>\n",
       "      <td>359870</td>\n",
       "      <td>3578</td>\n",
       "      <td>9</td>\n",
       "      <td>4.430506e+07</td>\n",
       "    </tr>\n",
       "    <tr>\n",
       "      <th>5</th>\n",
       "      <td>557663</td>\n",
       "      <td>1918</td>\n",
       "      <td>10</td>\n",
       "      <td>4.430505e+07</td>\n",
       "    </tr>\n",
       "  </tbody>\n",
       "</table>\n",
       "</div>"
      ],
      "text/plain": [
       "   user_uid  element_uid  rating            ts\n",
       "0    571252         1364      10  4.430517e+07\n",
       "1     63140         3037      10  4.430514e+07\n",
       "2    443817         4363       8  4.430514e+07\n",
       "3    359870         1364      10  4.430506e+07\n",
       "4    359870         3578       9  4.430506e+07\n",
       "5    557663         1918      10  4.430505e+07"
      ]
     },
     "execution_count": 104,
     "metadata": {},
     "output_type": "execute_result"
    }
   ],
   "source": [
    "ratings_main.head(6)"
   ]
  },
  {
   "cell_type": "code",
   "execution_count": 105,
   "id": "97be3402",
   "metadata": {},
   "outputs": [
    {
     "name": "stdout",
     "output_type": "stream",
     "text": [
      "Number of unique users = 104563\n",
      "Number of unique elements = 7519\n"
     ]
    }
   ],
   "source": [
    "print('Number of unique users =', len(ratings_main['user_uid'].unique()))\n",
    "print('Number of unique elements =', len(ratings_main['element_uid'].unique()))"
   ]
  },
  {
   "cell_type": "markdown",
   "id": "22cfc151",
   "metadata": {},
   "source": [
    "Уникальных элементов (то есть фильмов, которым выставлена хотя бы одна оценка) в датасете почти в 14 раз меньше, чем уникальных пользователей, поэтому имеет смысл производить фильтрацию по элементам.\n",
    "\n",
    "Кроме того, стоит удалить из списка фильмов фильмы с одной единственной оценкой на весь датасет, так как оценки от одного пользователя недостаточно, чтобы как-то охарактеризовать фильм (мнение одного человека очень субъективно) и спрогнозировать оценки других пользователей, которые ему, предположительно, могли бы быть даны."
   ]
  },
  {
   "cell_type": "code",
   "execution_count": 106,
   "id": "72b64dc2",
   "metadata": {},
   "outputs": [],
   "source": [
    "data = ratings_main.groupby('element_uid').agg({'element_uid': ['count']})\n",
    "ind = set(data[data['element_uid']['count'] > 2].index)"
   ]
  },
  {
   "cell_type": "code",
   "execution_count": 107,
   "id": "2be517eb",
   "metadata": {
    "scrolled": true
   },
   "outputs": [],
   "source": [
    "grouped = ratings_main.groupby('element_uid')\n",
    "\n",
    "ratings_main = grouped.filter(lambda x: set(x['element_uid']).issubset(ind))"
   ]
  },
  {
   "cell_type": "code",
   "execution_count": 108,
   "id": "0720e05e",
   "metadata": {},
   "outputs": [
    {
     "data": {
      "text/plain": [
       "(436281, 4)"
      ]
     },
     "execution_count": 108,
     "metadata": {},
     "output_type": "execute_result"
    }
   ],
   "source": [
    "ratings_main.shape"
   ]
  },
  {
   "cell_type": "markdown",
   "id": "fa8aba82",
   "metadata": {},
   "source": [
    "Далее отбираю 30_000 строк для обучения, так как обучение на всём датасете займёт большое время.\n",
    "Делаю это с помощью стратифицированной по элементам выборки, иначе из-за большой разреженности матрицы рекомендации получатся неинформативными."
   ]
  },
  {
   "cell_type": "code",
   "execution_count": 109,
   "id": "dadbd207",
   "metadata": {},
   "outputs": [],
   "source": [
    "from sklearn.model_selection import StratifiedShuffleSplit"
   ]
  },
  {
   "cell_type": "code",
   "execution_count": 110,
   "id": "d33f01c2",
   "metadata": {},
   "outputs": [],
   "source": [
    "sss = StratifiedShuffleSplit(n_splits=1, train_size=30_000, random_state=0)"
   ]
  },
  {
   "cell_type": "code",
   "execution_count": 111,
   "id": "764567a9",
   "metadata": {},
   "outputs": [],
   "source": [
    "for _, (train_index, _) in enumerate(sss.split(ratings_main, ratings_main['element_uid'])):\n",
    "    ratings_main = ratings_main.iloc[train_index]"
   ]
  },
  {
   "cell_type": "code",
   "execution_count": 112,
   "id": "55f2e57a",
   "metadata": {},
   "outputs": [
    {
     "data": {
      "text/html": [
       "<div>\n",
       "<style scoped>\n",
       "    .dataframe tbody tr th:only-of-type {\n",
       "        vertical-align: middle;\n",
       "    }\n",
       "\n",
       "    .dataframe tbody tr th {\n",
       "        vertical-align: top;\n",
       "    }\n",
       "\n",
       "    .dataframe thead th {\n",
       "        text-align: right;\n",
       "    }\n",
       "</style>\n",
       "<table border=\"1\" class=\"dataframe\">\n",
       "  <thead>\n",
       "    <tr style=\"text-align: right;\">\n",
       "      <th></th>\n",
       "      <th>user_uid</th>\n",
       "      <th>element_uid</th>\n",
       "      <th>rating</th>\n",
       "      <th>ts</th>\n",
       "    </tr>\n",
       "  </thead>\n",
       "  <tbody>\n",
       "    <tr>\n",
       "      <th>265211</th>\n",
       "      <td>249124</td>\n",
       "      <td>125</td>\n",
       "      <td>10</td>\n",
       "      <td>4.275606e+07</td>\n",
       "    </tr>\n",
       "    <tr>\n",
       "      <th>164880</th>\n",
       "      <td>269488</td>\n",
       "      <td>8344</td>\n",
       "      <td>10</td>\n",
       "      <td>4.329471e+07</td>\n",
       "    </tr>\n",
       "    <tr>\n",
       "      <th>296680</th>\n",
       "      <td>518023</td>\n",
       "      <td>793</td>\n",
       "      <td>10</td>\n",
       "      <td>4.254842e+07</td>\n",
       "    </tr>\n",
       "    <tr>\n",
       "      <th>47493</th>\n",
       "      <td>427046</td>\n",
       "      <td>5777</td>\n",
       "      <td>10</td>\n",
       "      <td>4.393893e+07</td>\n",
       "    </tr>\n",
       "    <tr>\n",
       "      <th>433322</th>\n",
       "      <td>529368</td>\n",
       "      <td>3916</td>\n",
       "      <td>8</td>\n",
       "      <td>4.175389e+07</td>\n",
       "    </tr>\n",
       "    <tr>\n",
       "      <th>...</th>\n",
       "      <td>...</td>\n",
       "      <td>...</td>\n",
       "      <td>...</td>\n",
       "      <td>...</td>\n",
       "    </tr>\n",
       "    <tr>\n",
       "      <th>387991</th>\n",
       "      <td>538047</td>\n",
       "      <td>9966</td>\n",
       "      <td>6</td>\n",
       "      <td>4.199625e+07</td>\n",
       "    </tr>\n",
       "    <tr>\n",
       "      <th>267002</th>\n",
       "      <td>453865</td>\n",
       "      <td>3757</td>\n",
       "      <td>8</td>\n",
       "      <td>4.274535e+07</td>\n",
       "    </tr>\n",
       "    <tr>\n",
       "      <th>409758</th>\n",
       "      <td>482593</td>\n",
       "      <td>6594</td>\n",
       "      <td>9</td>\n",
       "      <td>4.187928e+07</td>\n",
       "    </tr>\n",
       "    <tr>\n",
       "      <th>423263</th>\n",
       "      <td>429960</td>\n",
       "      <td>3478</td>\n",
       "      <td>10</td>\n",
       "      <td>4.180310e+07</td>\n",
       "    </tr>\n",
       "    <tr>\n",
       "      <th>204980</th>\n",
       "      <td>18744</td>\n",
       "      <td>5926</td>\n",
       "      <td>7</td>\n",
       "      <td>4.309187e+07</td>\n",
       "    </tr>\n",
       "  </tbody>\n",
       "</table>\n",
       "<p>30000 rows × 4 columns</p>\n",
       "</div>"
      ],
      "text/plain": [
       "        user_uid  element_uid  rating            ts\n",
       "265211    249124          125      10  4.275606e+07\n",
       "164880    269488         8344      10  4.329471e+07\n",
       "296680    518023          793      10  4.254842e+07\n",
       "47493     427046         5777      10  4.393893e+07\n",
       "433322    529368         3916       8  4.175389e+07\n",
       "...          ...          ...     ...           ...\n",
       "387991    538047         9966       6  4.199625e+07\n",
       "267002    453865         3757       8  4.274535e+07\n",
       "409758    482593         6594       9  4.187928e+07\n",
       "423263    429960         3478      10  4.180310e+07\n",
       "204980     18744         5926       7  4.309187e+07\n",
       "\n",
       "[30000 rows x 4 columns]"
      ]
     },
     "execution_count": 112,
     "metadata": {},
     "output_type": "execute_result"
    }
   ],
   "source": [
    "ratings_main"
   ]
  },
  {
   "cell_type": "code",
   "execution_count": 113,
   "id": "198f957b",
   "metadata": {},
   "outputs": [
    {
     "name": "stdout",
     "output_type": "stream",
     "text": [
      "Number of unique users = 21367\n",
      "Number of unique elements = 4173\n"
     ]
    }
   ],
   "source": [
    "print('Number of unique users =', len(ratings_main['user_uid'].unique()))\n",
    "print('Number of unique elements =', len(ratings_main['element_uid'].unique()))"
   ]
  },
  {
   "cell_type": "markdown",
   "id": "58cc03b6",
   "metadata": {},
   "source": [
    "Удаляю строки с оценкой фильма 0 (используется шкала от 1 до 10, поэтому это мусор)"
   ]
  },
  {
   "cell_type": "code",
   "execution_count": 114,
   "id": "a09906e9",
   "metadata": {},
   "outputs": [],
   "source": [
    "ratings_main = ratings_main.drop(labels=ratings_main.groupby('rating').get_group(0).index)"
   ]
  },
  {
   "cell_type": "code",
   "execution_count": 115,
   "id": "1fa4a8b8",
   "metadata": {},
   "outputs": [],
   "source": [
    "from scipy.sparse import coo_matrix\n",
    "from sklearn.metrics.pairwise import cosine_similarity"
   ]
  },
  {
   "cell_type": "code",
   "execution_count": 116,
   "id": "7a90e61b",
   "metadata": {},
   "outputs": [],
   "source": [
    "def normalize(x):\n",
    "    x = x.astype(float)\n",
    "    x_sum = x.sum()\n",
    "    x_num = x.astype(bool).sum()\n",
    "    if x_num == 0:\n",
    "        print(x)\n",
    "    x_mean = x_sum / x_num\n",
    "    x_range = x.max() - x.min()\n",
    "\n",
    "    if x_range == 0:\n",
    "        return 0.0\n",
    "    \n",
    "    return (x - x_mean) / x.std()"
   ]
  },
  {
   "cell_type": "code",
   "execution_count": 117,
   "id": "90cc2c33",
   "metadata": {},
   "outputs": [],
   "source": [
    "def get_coo_matrix(ratings_main):\n",
    "    \n",
    "    # составляю разреженную матрицу оценок пользователями просмотренных фильмов\n",
    "    # по датасету ratings_main\n",
    "    # строки соответствуют пользователям, столбцы --- фильмам\n",
    "\n",
    "    users = ratings_main['user_uid'].astype('category')\n",
    "    elements = ratings_main['element_uid'].astype('category')\n",
    "    ratings = ratings_main.groupby('user_uid')['rating'].transform(lambda x: normalize(x))\n",
    "    \n",
    "    coo = coo_matrix((ratings.astype(float),\n",
    "                    (users.cat.codes.copy(), elements.cat.codes.copy())))\n",
    "    \n",
    "    return coo"
   ]
  },
  {
   "cell_type": "code",
   "execution_count": 118,
   "id": "6caff312",
   "metadata": {},
   "outputs": [],
   "source": [
    "def get_cor_matrix(ratings_main):\n",
    "    \n",
    "    coo = get_coo_matrix(ratings_main)\n",
    "    \n",
    "    # считаю матрицу перекрытия, которая показывает,\n",
    "    # сколько пользователей оценили оба фильма i и j\n",
    "\n",
    "    overlap_matrix = coo.T.astype(bool).astype(int) @ coo.astype(bool).astype(int) \n",
    "    \n",
    "    # задаю минимальное допустимое число пользователей, оценивших оба фильма\n",
    "\n",
    "    min_overlap = 3 \n",
    "    \n",
    "    # вычисляю матрицу сходства фильмов\n",
    "    \n",
    "    cor = cosine_similarity(coo.T, dense_output=False)\n",
    "    cor = cor.multiply(cor > 0.4) # удаляю слишком низкие значения сходств\n",
    "    \n",
    "    # удаляю сходства с недостаточным перекрытием\n",
    "    \n",
    "    cor = cor.multiply(overlap_matrix > min_overlap) \n",
    "    \n",
    "    return cor"
   ]
  },
  {
   "cell_type": "code",
   "execution_count": 119,
   "id": "6240691a",
   "metadata": {},
   "outputs": [],
   "source": [
    "def predict_rating(user, elem, ratings_main, coo, cor):\n",
    "    \n",
    "    # рассчитываю прогнозы, отталкиваясь от средней оценки пользователя,\n",
    "    # так как разные пользователи по-разному оценивают свои впечатления\n",
    "    # и могут иметь привычку завышать/занижать оценку\n",
    "    mean_r = ratings_main.groupby('user_uid')['rating'].mean()[user] \n",
    "    i = ratings_main[ratings_main['user_uid']==user].index[0]\n",
    "    j = ratings_main[ratings_main['element_uid']==elem].index[0]\n",
    "    ind1 = ratings_main['user_uid'].astype('category').cat.codes.to_frame().loc[i]\n",
    "    ind2 = ratings_main['element_uid'].astype('category').cat.codes.to_frame().loc[j]\n",
    "    numerator = coo.toarray()[ind1[0]] @ cor.toarray()[ind2[0]]\n",
    "    denominator = cor.toarray()[ind2[0]].sum()\n",
    "    \n",
    "    if denominator == 0:\n",
    "        return 0.0\n",
    "    \n",
    "    return mean_r + numerator / denominator"
   ]
  },
  {
   "cell_type": "code",
   "execution_count": 120,
   "id": "b8608b9f",
   "metadata": {},
   "outputs": [
    {
     "data": {
      "text/plain": [
       "{30: 7.76,\n",
       " 5821: 0.0,\n",
       " 7279: 0.0,\n",
       " 5180: 0.0,\n",
       " 6330: 0.0,\n",
       " 2625: 0.0,\n",
       " 9920: 0.0,\n",
       " 9898: 0.0,\n",
       " 4639: 7.76,\n",
       " 6909: 0.0}"
      ]
     },
     "execution_count": 120,
     "metadata": {},
     "output_type": "execute_result"
    }
   ],
   "source": [
    "# пример составления рекомендаций для пользователя 24124\n",
    "\n",
    "import random\n",
    "\n",
    "user = 24124\n",
    "\n",
    "ratings_without_user = ratings_main.drop(labels=ratings_main.groupby('user_uid').get_group(user).index, \n",
    "                                         inplace=False)\n",
    "elements_list = list(ratings_without_user['element_uid'].unique())\n",
    "elements_sample = random.sample(elements_list, k=10)\n",
    "predicted_ratings = {}\n",
    "\n",
    "coo = get_coo_matrix(ratings_main)\n",
    "cor = get_cor_matrix(ratings_main)\n",
    "\n",
    "for elem in elements_sample:\n",
    "    r = predict_rating(user, elem, ratings_main, coo, cor)\n",
    "    predicted_ratings[elem] = round(r, 2)\n",
    "    \n",
    "predicted_ratings"
   ]
  },
  {
   "cell_type": "markdown",
   "id": "ee030061",
   "metadata": {},
   "source": [
    "Многие прогнозы получаются нулевыми из-за большой разреженности матрицы - ниже можно наблюдать таблицу с количеством оценок по каждому фильму (в исходном датасете). У многих фильмов количество оценок несоизмеримо мало по сравнению с количеством пользователей (пара десятков оценок на более сотни тысяч пользователей), поэтому имеющиеся оценки вносят большой вклад."
   ]
  },
  {
   "cell_type": "code",
   "execution_count": 121,
   "id": "8f09bb92",
   "metadata": {},
   "outputs": [
    {
     "data": {
      "text/html": [
       "<div>\n",
       "<style scoped>\n",
       "    .dataframe tbody tr th:only-of-type {\n",
       "        vertical-align: middle;\n",
       "    }\n",
       "\n",
       "    .dataframe tbody tr th {\n",
       "        vertical-align: top;\n",
       "    }\n",
       "\n",
       "    .dataframe thead tr th {\n",
       "        text-align: left;\n",
       "    }\n",
       "\n",
       "    .dataframe thead tr:last-of-type th {\n",
       "        text-align: right;\n",
       "    }\n",
       "</style>\n",
       "<table border=\"1\" class=\"dataframe\">\n",
       "  <thead>\n",
       "    <tr>\n",
       "      <th></th>\n",
       "      <th>element_uid</th>\n",
       "    </tr>\n",
       "    <tr>\n",
       "      <th></th>\n",
       "      <th>count</th>\n",
       "    </tr>\n",
       "    <tr>\n",
       "      <th>element_uid</th>\n",
       "      <th></th>\n",
       "    </tr>\n",
       "  </thead>\n",
       "  <tbody>\n",
       "    <tr>\n",
       "      <th>3</th>\n",
       "      <td>29</td>\n",
       "    </tr>\n",
       "    <tr>\n",
       "      <th>4</th>\n",
       "      <td>2</td>\n",
       "    </tr>\n",
       "    <tr>\n",
       "      <th>6</th>\n",
       "      <td>12</td>\n",
       "    </tr>\n",
       "    <tr>\n",
       "      <th>7</th>\n",
       "      <td>14</td>\n",
       "    </tr>\n",
       "    <tr>\n",
       "      <th>9</th>\n",
       "      <td>1</td>\n",
       "    </tr>\n",
       "    <tr>\n",
       "      <th>...</th>\n",
       "      <td>...</td>\n",
       "    </tr>\n",
       "    <tr>\n",
       "      <th>10187</th>\n",
       "      <td>2</td>\n",
       "    </tr>\n",
       "    <tr>\n",
       "      <th>10194</th>\n",
       "      <td>2</td>\n",
       "    </tr>\n",
       "    <tr>\n",
       "      <th>10196</th>\n",
       "      <td>4</td>\n",
       "    </tr>\n",
       "    <tr>\n",
       "      <th>10197</th>\n",
       "      <td>1</td>\n",
       "    </tr>\n",
       "    <tr>\n",
       "      <th>10199</th>\n",
       "      <td>3</td>\n",
       "    </tr>\n",
       "  </tbody>\n",
       "</table>\n",
       "<p>7519 rows × 1 columns</p>\n",
       "</div>"
      ],
      "text/plain": [
       "            element_uid\n",
       "                  count\n",
       "element_uid            \n",
       "3                    29\n",
       "4                     2\n",
       "6                    12\n",
       "7                    14\n",
       "9                     1\n",
       "...                 ...\n",
       "10187                 2\n",
       "10194                 2\n",
       "10196                 4\n",
       "10197                 1\n",
       "10199                 3\n",
       "\n",
       "[7519 rows x 1 columns]"
      ]
     },
     "execution_count": 121,
     "metadata": {},
     "output_type": "execute_result"
    }
   ],
   "source": [
    "data"
   ]
  },
  {
   "cell_type": "code",
   "execution_count": null,
   "id": "5b1ef961",
   "metadata": {},
   "outputs": [],
   "source": []
  }
 ],
 "metadata": {
  "kernelspec": {
   "display_name": "Python 3 (ipykernel)",
   "language": "python",
   "name": "python3"
  },
  "language_info": {
   "codemirror_mode": {
    "name": "ipython",
    "version": 3
   },
   "file_extension": ".py",
   "mimetype": "text/x-python",
   "name": "python",
   "nbconvert_exporter": "python",
   "pygments_lexer": "ipython3",
   "version": "3.8.10"
  }
 },
 "nbformat": 4,
 "nbformat_minor": 5
}
